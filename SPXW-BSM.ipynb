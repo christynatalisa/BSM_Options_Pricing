{
 "cells": [
  {
   "cell_type": "code",
   "execution_count": 156,
   "metadata": {},
   "outputs": [
    {
     "name": "stderr",
     "output_type": "stream",
     "text": [
      "/var/folders/38/nx0s9dz55h1dpkx5p0wgg46m0000gn/T/ipykernel_14103/149425013.py:31: FutureWarning:\n",
      "\n",
      "Series.__getitem__ treating keys as positions is deprecated. In a future version, integer keys will always be treated as labels (consistent with DataFrame behavior). To access a value by position, use `ser.iloc[pos]`\n",
      "\n",
      "[*********************100%***********************]  1 of 1 completed\n",
      "/var/folders/38/nx0s9dz55h1dpkx5p0wgg46m0000gn/T/ipykernel_14103/149425013.py:42: FutureWarning:\n",
      "\n",
      "Series.__getitem__ treating keys as positions is deprecated. In a future version, integer keys will always be treated as labels (consistent with DataFrame behavior). To access a value by position, use `ser.iloc[pos]`\n",
      "\n",
      "/var/folders/38/nx0s9dz55h1dpkx5p0wgg46m0000gn/T/ipykernel_14103/149425013.py:31: FutureWarning:\n",
      "\n",
      "Series.__getitem__ treating keys as positions is deprecated. In a future version, integer keys will always be treated as labels (consistent with DataFrame behavior). To access a value by position, use `ser.iloc[pos]`\n",
      "\n",
      "[*********************100%***********************]  1 of 1 completed\n",
      "/var/folders/38/nx0s9dz55h1dpkx5p0wgg46m0000gn/T/ipykernel_14103/149425013.py:42: FutureWarning:\n",
      "\n",
      "Series.__getitem__ treating keys as positions is deprecated. In a future version, integer keys will always be treated as labels (consistent with DataFrame behavior). To access a value by position, use `ser.iloc[pos]`\n",
      "\n",
      "/var/folders/38/nx0s9dz55h1dpkx5p0wgg46m0000gn/T/ipykernel_14103/149425013.py:31: FutureWarning:\n",
      "\n",
      "Series.__getitem__ treating keys as positions is deprecated. In a future version, integer keys will always be treated as labels (consistent with DataFrame behavior). To access a value by position, use `ser.iloc[pos]`\n",
      "\n",
      "[*********************100%***********************]  1 of 1 completed\n",
      "/var/folders/38/nx0s9dz55h1dpkx5p0wgg46m0000gn/T/ipykernel_14103/149425013.py:42: FutureWarning:\n",
      "\n",
      "Series.__getitem__ treating keys as positions is deprecated. In a future version, integer keys will always be treated as labels (consistent with DataFrame behavior). To access a value by position, use `ser.iloc[pos]`\n",
      "\n",
      "/var/folders/38/nx0s9dz55h1dpkx5p0wgg46m0000gn/T/ipykernel_14103/149425013.py:31: FutureWarning:\n",
      "\n",
      "Series.__getitem__ treating keys as positions is deprecated. In a future version, integer keys will always be treated as labels (consistent with DataFrame behavior). To access a value by position, use `ser.iloc[pos]`\n",
      "\n",
      "[*********************100%***********************]  1 of 1 completed\n",
      "/var/folders/38/nx0s9dz55h1dpkx5p0wgg46m0000gn/T/ipykernel_14103/149425013.py:42: FutureWarning:\n",
      "\n",
      "Series.__getitem__ treating keys as positions is deprecated. In a future version, integer keys will always be treated as labels (consistent with DataFrame behavior). To access a value by position, use `ser.iloc[pos]`\n",
      "\n",
      "/var/folders/38/nx0s9dz55h1dpkx5p0wgg46m0000gn/T/ipykernel_14103/149425013.py:31: FutureWarning:\n",
      "\n",
      "Series.__getitem__ treating keys as positions is deprecated. In a future version, integer keys will always be treated as labels (consistent with DataFrame behavior). To access a value by position, use `ser.iloc[pos]`\n",
      "\n",
      "[*********************100%***********************]  1 of 1 completed\n",
      "/var/folders/38/nx0s9dz55h1dpkx5p0wgg46m0000gn/T/ipykernel_14103/149425013.py:42: FutureWarning:\n",
      "\n",
      "Series.__getitem__ treating keys as positions is deprecated. In a future version, integer keys will always be treated as labels (consistent with DataFrame behavior). To access a value by position, use `ser.iloc[pos]`\n",
      "\n",
      "/var/folders/38/nx0s9dz55h1dpkx5p0wgg46m0000gn/T/ipykernel_14103/149425013.py:31: FutureWarning:\n",
      "\n",
      "Series.__getitem__ treating keys as positions is deprecated. In a future version, integer keys will always be treated as labels (consistent with DataFrame behavior). To access a value by position, use `ser.iloc[pos]`\n",
      "\n",
      "[*********************100%***********************]  1 of 1 completed\n",
      "/var/folders/38/nx0s9dz55h1dpkx5p0wgg46m0000gn/T/ipykernel_14103/149425013.py:42: FutureWarning:\n",
      "\n",
      "Series.__getitem__ treating keys as positions is deprecated. In a future version, integer keys will always be treated as labels (consistent with DataFrame behavior). To access a value by position, use `ser.iloc[pos]`\n",
      "\n",
      "/var/folders/38/nx0s9dz55h1dpkx5p0wgg46m0000gn/T/ipykernel_14103/149425013.py:31: FutureWarning:\n",
      "\n",
      "Series.__getitem__ treating keys as positions is deprecated. In a future version, integer keys will always be treated as labels (consistent with DataFrame behavior). To access a value by position, use `ser.iloc[pos]`\n",
      "\n",
      "[*********************100%***********************]  1 of 1 completed\n",
      "/var/folders/38/nx0s9dz55h1dpkx5p0wgg46m0000gn/T/ipykernel_14103/149425013.py:42: FutureWarning:\n",
      "\n",
      "Series.__getitem__ treating keys as positions is deprecated. In a future version, integer keys will always be treated as labels (consistent with DataFrame behavior). To access a value by position, use `ser.iloc[pos]`\n",
      "\n",
      "/var/folders/38/nx0s9dz55h1dpkx5p0wgg46m0000gn/T/ipykernel_14103/149425013.py:31: FutureWarning:\n",
      "\n",
      "Series.__getitem__ treating keys as positions is deprecated. In a future version, integer keys will always be treated as labels (consistent with DataFrame behavior). To access a value by position, use `ser.iloc[pos]`\n",
      "\n",
      "[*********************100%***********************]  1 of 1 completed\n",
      "/var/folders/38/nx0s9dz55h1dpkx5p0wgg46m0000gn/T/ipykernel_14103/149425013.py:42: FutureWarning:\n",
      "\n",
      "Series.__getitem__ treating keys as positions is deprecated. In a future version, integer keys will always be treated as labels (consistent with DataFrame behavior). To access a value by position, use `ser.iloc[pos]`\n",
      "\n",
      "/var/folders/38/nx0s9dz55h1dpkx5p0wgg46m0000gn/T/ipykernel_14103/149425013.py:31: FutureWarning:\n",
      "\n",
      "Series.__getitem__ treating keys as positions is deprecated. In a future version, integer keys will always be treated as labels (consistent with DataFrame behavior). To access a value by position, use `ser.iloc[pos]`\n",
      "\n",
      "[*********************100%***********************]  1 of 1 completed\n",
      "/var/folders/38/nx0s9dz55h1dpkx5p0wgg46m0000gn/T/ipykernel_14103/149425013.py:42: FutureWarning:\n",
      "\n",
      "Series.__getitem__ treating keys as positions is deprecated. In a future version, integer keys will always be treated as labels (consistent with DataFrame behavior). To access a value by position, use `ser.iloc[pos]`\n",
      "\n",
      "/var/folders/38/nx0s9dz55h1dpkx5p0wgg46m0000gn/T/ipykernel_14103/149425013.py:31: FutureWarning:\n",
      "\n",
      "Series.__getitem__ treating keys as positions is deprecated. In a future version, integer keys will always be treated as labels (consistent with DataFrame behavior). To access a value by position, use `ser.iloc[pos]`\n",
      "\n",
      "[*********************100%***********************]  1 of 1 completed\n",
      "/var/folders/38/nx0s9dz55h1dpkx5p0wgg46m0000gn/T/ipykernel_14103/149425013.py:42: FutureWarning:\n",
      "\n",
      "Series.__getitem__ treating keys as positions is deprecated. In a future version, integer keys will always be treated as labels (consistent with DataFrame behavior). To access a value by position, use `ser.iloc[pos]`\n",
      "\n",
      "/var/folders/38/nx0s9dz55h1dpkx5p0wgg46m0000gn/T/ipykernel_14103/149425013.py:31: FutureWarning:\n",
      "\n",
      "Series.__getitem__ treating keys as positions is deprecated. In a future version, integer keys will always be treated as labels (consistent with DataFrame behavior). To access a value by position, use `ser.iloc[pos]`\n",
      "\n",
      "[*********************100%***********************]  1 of 1 completed\n",
      "/var/folders/38/nx0s9dz55h1dpkx5p0wgg46m0000gn/T/ipykernel_14103/149425013.py:42: FutureWarning:\n",
      "\n",
      "Series.__getitem__ treating keys as positions is deprecated. In a future version, integer keys will always be treated as labels (consistent with DataFrame behavior). To access a value by position, use `ser.iloc[pos]`\n",
      "\n",
      "/var/folders/38/nx0s9dz55h1dpkx5p0wgg46m0000gn/T/ipykernel_14103/149425013.py:31: FutureWarning:\n",
      "\n",
      "Series.__getitem__ treating keys as positions is deprecated. In a future version, integer keys will always be treated as labels (consistent with DataFrame behavior). To access a value by position, use `ser.iloc[pos]`\n",
      "\n",
      "[*********************100%***********************]  1 of 1 completed\n",
      "/var/folders/38/nx0s9dz55h1dpkx5p0wgg46m0000gn/T/ipykernel_14103/149425013.py:42: FutureWarning:\n",
      "\n",
      "Series.__getitem__ treating keys as positions is deprecated. In a future version, integer keys will always be treated as labels (consistent with DataFrame behavior). To access a value by position, use `ser.iloc[pos]`\n",
      "\n",
      "/var/folders/38/nx0s9dz55h1dpkx5p0wgg46m0000gn/T/ipykernel_14103/149425013.py:31: FutureWarning:\n",
      "\n",
      "Series.__getitem__ treating keys as positions is deprecated. In a future version, integer keys will always be treated as labels (consistent with DataFrame behavior). To access a value by position, use `ser.iloc[pos]`\n",
      "\n",
      "[*********************100%***********************]  1 of 1 completed\n",
      "/var/folders/38/nx0s9dz55h1dpkx5p0wgg46m0000gn/T/ipykernel_14103/149425013.py:42: FutureWarning:\n",
      "\n",
      "Series.__getitem__ treating keys as positions is deprecated. In a future version, integer keys will always be treated as labels (consistent with DataFrame behavior). To access a value by position, use `ser.iloc[pos]`\n",
      "\n",
      "/var/folders/38/nx0s9dz55h1dpkx5p0wgg46m0000gn/T/ipykernel_14103/149425013.py:31: FutureWarning:\n",
      "\n",
      "Series.__getitem__ treating keys as positions is deprecated. In a future version, integer keys will always be treated as labels (consistent with DataFrame behavior). To access a value by position, use `ser.iloc[pos]`\n",
      "\n",
      "[*********************100%***********************]  1 of 1 completed\n",
      "/var/folders/38/nx0s9dz55h1dpkx5p0wgg46m0000gn/T/ipykernel_14103/149425013.py:42: FutureWarning:\n",
      "\n",
      "Series.__getitem__ treating keys as positions is deprecated. In a future version, integer keys will always be treated as labels (consistent with DataFrame behavior). To access a value by position, use `ser.iloc[pos]`\n",
      "\n",
      "/var/folders/38/nx0s9dz55h1dpkx5p0wgg46m0000gn/T/ipykernel_14103/149425013.py:31: FutureWarning:\n",
      "\n",
      "Series.__getitem__ treating keys as positions is deprecated. In a future version, integer keys will always be treated as labels (consistent with DataFrame behavior). To access a value by position, use `ser.iloc[pos]`\n",
      "\n",
      "[*********************100%***********************]  1 of 1 completed\n",
      "/var/folders/38/nx0s9dz55h1dpkx5p0wgg46m0000gn/T/ipykernel_14103/149425013.py:42: FutureWarning:\n",
      "\n",
      "Series.__getitem__ treating keys as positions is deprecated. In a future version, integer keys will always be treated as labels (consistent with DataFrame behavior). To access a value by position, use `ser.iloc[pos]`\n",
      "\n",
      "/var/folders/38/nx0s9dz55h1dpkx5p0wgg46m0000gn/T/ipykernel_14103/149425013.py:31: FutureWarning:\n",
      "\n",
      "Series.__getitem__ treating keys as positions is deprecated. In a future version, integer keys will always be treated as labels (consistent with DataFrame behavior). To access a value by position, use `ser.iloc[pos]`\n",
      "\n",
      "[*********************100%***********************]  1 of 1 completed\n",
      "/var/folders/38/nx0s9dz55h1dpkx5p0wgg46m0000gn/T/ipykernel_14103/149425013.py:42: FutureWarning:\n",
      "\n",
      "Series.__getitem__ treating keys as positions is deprecated. In a future version, integer keys will always be treated as labels (consistent with DataFrame behavior). To access a value by position, use `ser.iloc[pos]`\n",
      "\n",
      "/var/folders/38/nx0s9dz55h1dpkx5p0wgg46m0000gn/T/ipykernel_14103/149425013.py:31: FutureWarning:\n",
      "\n",
      "Series.__getitem__ treating keys as positions is deprecated. In a future version, integer keys will always be treated as labels (consistent with DataFrame behavior). To access a value by position, use `ser.iloc[pos]`\n",
      "\n",
      "[*********************100%***********************]  1 of 1 completed\n",
      "/var/folders/38/nx0s9dz55h1dpkx5p0wgg46m0000gn/T/ipykernel_14103/149425013.py:42: FutureWarning:\n",
      "\n",
      "Series.__getitem__ treating keys as positions is deprecated. In a future version, integer keys will always be treated as labels (consistent with DataFrame behavior). To access a value by position, use `ser.iloc[pos]`\n",
      "\n",
      "/var/folders/38/nx0s9dz55h1dpkx5p0wgg46m0000gn/T/ipykernel_14103/149425013.py:31: FutureWarning:\n",
      "\n",
      "Series.__getitem__ treating keys as positions is deprecated. In a future version, integer keys will always be treated as labels (consistent with DataFrame behavior). To access a value by position, use `ser.iloc[pos]`\n",
      "\n",
      "[*********************100%***********************]  1 of 1 completed\n",
      "/var/folders/38/nx0s9dz55h1dpkx5p0wgg46m0000gn/T/ipykernel_14103/149425013.py:42: FutureWarning:\n",
      "\n",
      "Series.__getitem__ treating keys as positions is deprecated. In a future version, integer keys will always be treated as labels (consistent with DataFrame behavior). To access a value by position, use `ser.iloc[pos]`\n",
      "\n",
      "/var/folders/38/nx0s9dz55h1dpkx5p0wgg46m0000gn/T/ipykernel_14103/149425013.py:31: FutureWarning:\n",
      "\n",
      "Series.__getitem__ treating keys as positions is deprecated. In a future version, integer keys will always be treated as labels (consistent with DataFrame behavior). To access a value by position, use `ser.iloc[pos]`\n",
      "\n",
      "[*********************100%***********************]  1 of 1 completed\n",
      "/var/folders/38/nx0s9dz55h1dpkx5p0wgg46m0000gn/T/ipykernel_14103/149425013.py:42: FutureWarning:\n",
      "\n",
      "Series.__getitem__ treating keys as positions is deprecated. In a future version, integer keys will always be treated as labels (consistent with DataFrame behavior). To access a value by position, use `ser.iloc[pos]`\n",
      "\n",
      "/var/folders/38/nx0s9dz55h1dpkx5p0wgg46m0000gn/T/ipykernel_14103/149425013.py:31: FutureWarning:\n",
      "\n",
      "Series.__getitem__ treating keys as positions is deprecated. In a future version, integer keys will always be treated as labels (consistent with DataFrame behavior). To access a value by position, use `ser.iloc[pos]`\n",
      "\n",
      "[*********************100%***********************]  1 of 1 completed\n",
      "/var/folders/38/nx0s9dz55h1dpkx5p0wgg46m0000gn/T/ipykernel_14103/149425013.py:42: FutureWarning:\n",
      "\n",
      "Series.__getitem__ treating keys as positions is deprecated. In a future version, integer keys will always be treated as labels (consistent with DataFrame behavior). To access a value by position, use `ser.iloc[pos]`\n",
      "\n",
      "/var/folders/38/nx0s9dz55h1dpkx5p0wgg46m0000gn/T/ipykernel_14103/149425013.py:31: FutureWarning:\n",
      "\n",
      "Series.__getitem__ treating keys as positions is deprecated. In a future version, integer keys will always be treated as labels (consistent with DataFrame behavior). To access a value by position, use `ser.iloc[pos]`\n",
      "\n",
      "[*********************100%***********************]  1 of 1 completed\n",
      "/var/folders/38/nx0s9dz55h1dpkx5p0wgg46m0000gn/T/ipykernel_14103/149425013.py:42: FutureWarning:\n",
      "\n",
      "Series.__getitem__ treating keys as positions is deprecated. In a future version, integer keys will always be treated as labels (consistent with DataFrame behavior). To access a value by position, use `ser.iloc[pos]`\n",
      "\n",
      "/var/folders/38/nx0s9dz55h1dpkx5p0wgg46m0000gn/T/ipykernel_14103/149425013.py:31: FutureWarning:\n",
      "\n",
      "Series.__getitem__ treating keys as positions is deprecated. In a future version, integer keys will always be treated as labels (consistent with DataFrame behavior). To access a value by position, use `ser.iloc[pos]`\n",
      "\n",
      "[*********************100%***********************]  1 of 1 completed\n",
      "/var/folders/38/nx0s9dz55h1dpkx5p0wgg46m0000gn/T/ipykernel_14103/149425013.py:42: FutureWarning:\n",
      "\n",
      "Series.__getitem__ treating keys as positions is deprecated. In a future version, integer keys will always be treated as labels (consistent with DataFrame behavior). To access a value by position, use `ser.iloc[pos]`\n",
      "\n",
      "/var/folders/38/nx0s9dz55h1dpkx5p0wgg46m0000gn/T/ipykernel_14103/149425013.py:31: FutureWarning:\n",
      "\n",
      "Series.__getitem__ treating keys as positions is deprecated. In a future version, integer keys will always be treated as labels (consistent with DataFrame behavior). To access a value by position, use `ser.iloc[pos]`\n",
      "\n",
      "[*********************100%***********************]  1 of 1 completed\n",
      "/var/folders/38/nx0s9dz55h1dpkx5p0wgg46m0000gn/T/ipykernel_14103/149425013.py:42: FutureWarning:\n",
      "\n",
      "Series.__getitem__ treating keys as positions is deprecated. In a future version, integer keys will always be treated as labels (consistent with DataFrame behavior). To access a value by position, use `ser.iloc[pos]`\n",
      "\n",
      "/var/folders/38/nx0s9dz55h1dpkx5p0wgg46m0000gn/T/ipykernel_14103/149425013.py:31: FutureWarning:\n",
      "\n",
      "Series.__getitem__ treating keys as positions is deprecated. In a future version, integer keys will always be treated as labels (consistent with DataFrame behavior). To access a value by position, use `ser.iloc[pos]`\n",
      "\n",
      "[*********************100%***********************]  1 of 1 completed\n",
      "/var/folders/38/nx0s9dz55h1dpkx5p0wgg46m0000gn/T/ipykernel_14103/149425013.py:42: FutureWarning:\n",
      "\n",
      "Series.__getitem__ treating keys as positions is deprecated. In a future version, integer keys will always be treated as labels (consistent with DataFrame behavior). To access a value by position, use `ser.iloc[pos]`\n",
      "\n",
      "/var/folders/38/nx0s9dz55h1dpkx5p0wgg46m0000gn/T/ipykernel_14103/149425013.py:31: FutureWarning:\n",
      "\n",
      "Series.__getitem__ treating keys as positions is deprecated. In a future version, integer keys will always be treated as labels (consistent with DataFrame behavior). To access a value by position, use `ser.iloc[pos]`\n",
      "\n",
      "[*********************100%***********************]  1 of 1 completed\n"
     ]
    },
    {
     "name": "stdout",
     "output_type": "stream",
     "text": [
      "The Black Schole price of the Put Option Jun 25 123 for SPXW is: $ 61.2616 and the real price is $ 120.8\n",
      "\n",
      "The Black Schole price of the Put Option Jan 26 110 for SPXW is: $ 30.7848 and the real price is $ 162.2\n"
     ]
    },
    {
     "name": "stderr",
     "output_type": "stream",
     "text": [
      "/var/folders/38/nx0s9dz55h1dpkx5p0wgg46m0000gn/T/ipykernel_14103/149425013.py:42: FutureWarning:\n",
      "\n",
      "Series.__getitem__ treating keys as positions is deprecated. In a future version, integer keys will always be treated as labels (consistent with DataFrame behavior). To access a value by position, use `ser.iloc[pos]`\n",
      "\n"
     ]
    }
   ],
   "source": [
    "import math\n",
    "import numpy as np\n",
    "import yfinance as yf\n",
    "from datetime import datetime, timedelta, date\n",
    "import pandas as pd\n",
    "from fredapi import Fred\n",
    "import openpyxl\n",
    "from openpyxl.styles import Font, Border, Side\n",
    "\n",
    "path = '/Users/christynatalisa/Library/CloudStorage/ShareFile-ShareFile/Shared Folders/1011 - 2024 Trade Desk CN/Practice/20 - Trade Group/800 - SY Desk/SPX/Matrix Q/SPXW Option Prices.xlsx'\n",
    "SPXW = yf.Ticker(\"^SPX\")\n",
    "\n",
    "# Define the date range\n",
    "start_date = datetime(2024, 11, 2)\n",
    "end_date = datetime(2024, 11, 26)\n",
    "\n",
    "# Loop over each date in the range\n",
    "current_date = start_date\n",
    "while current_date <= end_date:\n",
    "    # Get the next row in the sheet\n",
    "    workbook = openpyxl.load_workbook(path)\n",
    "    sheetName = 'Pricing'\n",
    "    sheet = workbook[sheetName]\n",
    "    \n",
    "    next_row = sheet.max_row + 1\n",
    "    for row in sheet.iter_rows(min_row=1, max_row=sheet.max_row, min_col=1, max_col=sheet.max_column):\n",
    "        if all(cell.value is None for cell in row):\n",
    "            next_row = row[0].row\n",
    "            break\n",
    "\n",
    "    s = SPXW.history(period='1d')['Close'][0]\n",
    "\n",
    "    # SPXW volatility\n",
    "    data = yf.download('^SPX', period='1y')\n",
    "    data['Daily Return'] = data['Close'].pct_change()\n",
    "    vol = data['Daily Return'].std() * np.sqrt(252)\n",
    "\n",
    "    # Risk-free interest rate\n",
    "    fredAPIKey = 'a4dbd27388238842e83d39b9959f2759'\n",
    "    fred = Fred(api_key=fredAPIKey)\n",
    "    riskFreeRateSeries = fred.get_series('DGS1')\n",
    "    riskFreeRate = riskFreeRateSeries[-1]/100\n",
    "    r = riskFreeRate\n",
    "\n",
    "    # Option Jun 25 Put 5700\n",
    "    k = 5700\n",
    "    t = ((datetime(2025,6,20) - current_date).days)/365.25\n",
    "    optJun25P5700 = SPXW.option_chain('2025-06-20')\n",
    "    putJun25P5700 = optJun25P5700.puts\n",
    "    x = putJun25P5700[putJun25P5700['strike'] == 5700]\n",
    "    lst = x.values.tolist()\n",
    "    realPricePut5700 = lst[0][3]\n",
    "\n",
    "    # Option Jan 26 Put 5300\n",
    "    k2 = 5300\n",
    "    t2 = ((datetime(2026,1,16) - current_date).days)/365.25\n",
    "    optJan16P5300 = SPXW.option_chain('2026-01-16')\n",
    "    putJan16P5300 = optJan16P5300.puts\n",
    "    x2 = putJan16P5300[putJan16P5300['strike'] == 5300]\n",
    "    lst2 = x2.values.tolist()\n",
    "    realPricePut5300 = lst2[0][3]\n",
    "\n",
    "    def normCdf(x):\n",
    "        return(1.0 + math.erf(x/math.sqrt(2.0)))/2.0\n",
    "\n",
    "    def putCalculation(s,r,k,t,vol):\n",
    "        d1 = (math.log(s/k)+(r + 0.5 * vol **2)*t)/(vol * math.sqrt(t))\n",
    "        d2 = d1 - (vol * math.sqrt(t))\n",
    "        Put = k * math.exp(-r*t) * normCdf(-d2) - s * normCdf(-d1)\n",
    "        return(Put)\n",
    "\n",
    "    pricePut5700 = putCalculation(s,r,k,t,vol)\n",
    "    pricePut5300 = putCalculation(s,r,k2,t2,vol)\n",
    "\n",
    "    # Create the cells in the sheet for the current date\n",
    "    title_cell = sheet.cell(row=next_row, column=1)\n",
    "    title_cell.value = current_date.date()  # Use current_date.date() to store only the date\n",
    "    title_cell.font = Font(bold=True)\n",
    "\n",
    "    thin_border = Border(left=Side(style='thin'), \n",
    "                         right=Side(style='thin'), \n",
    "                         top=Side(style='thin'), \n",
    "                         bottom=Side(style='thin'))\n",
    "\n",
    "    title_cell.border = thin_border\n",
    "\n",
    "    putJun255700Cell = sheet.cell(row=next_row, column=2)\n",
    "    putJan265300Cell = sheet.cell(row=next_row, column=5)\n",
    "    putJun255700Cell.value = round(pricePut5700,2)\n",
    "    putJan265300Cell.value = round(pricePut5300,2)\n",
    "    putJun255700Cell.border = thin_border\n",
    "    putJan265300Cell.border = thin_border\n",
    "\n",
    "    putJun255700CellRealPrice = sheet.cell(row=next_row, column=3)\n",
    "    putJan265300CellRealPrice = sheet.cell(row=next_row, column=6)\n",
    "    putJun255700CellRealPrice.value = realPricePut5700\n",
    "    putJan265300CellRealPrice.value = realPricePut5300\n",
    "    putJun255700CellRealPrice.border = thin_border\n",
    "    putJan265300CellRealPrice.border = thin_border\n",
    "\n",
    "    deltaPutJun255700 = sheet.cell(row=next_row, column=4)\n",
    "    deltaPutJan265300 = sheet.cell(row=next_row, column=7)\n",
    "    deltaPutJun255700.value = round((pricePut5700-realPricePut5700),2)\n",
    "    deltaPutJan265300.value = round((pricePut5300-realPricePut5300),2)\n",
    "    deltaPutJun255700.border = thin_border\n",
    "    deltaPutJan265300.border = thin_border\n",
    "\n",
    "    # Save the workbook after processing this date\n",
    "    workbook.save(path)\n",
    "\n",
    "    # Move to the next date\n",
    "    current_date += timedelta(days=1)\n",
    "\n",
    "# Print the results after all dates are processed\n",
    "print(\"The Black Schole price of the Put Option Jun 25 123 for SPXW is: $\", round(pricePut5700,4),'and the real price is $',realPricePut5700)\n",
    "print(\"\\nThe Black Schole price of the Put Option Jan 26 110 for SPXW is: $\", round(pricePut5300,4),'and the real price is $',realPricePut5300)\n"
   ]
  },
  {
   "cell_type": "code",
   "execution_count": 158,
   "metadata": {},
   "outputs": [
    {
     "name": "stderr",
     "output_type": "stream",
     "text": [
      "[*********************100%***********************]  1 of 1 completed\n",
      "[*********************100%***********************]  1 of 1 completed\n",
      "/var/folders/38/nx0s9dz55h1dpkx5p0wgg46m0000gn/T/ipykernel_14103/1875528705.py:16: FutureWarning:\n",
      "\n",
      "DataFrame.fillna with 'method' is deprecated and will raise in a future version. Use obj.ffill() or obj.bfill() instead.\n",
      "\n",
      "/var/folders/38/nx0s9dz55h1dpkx5p0wgg46m0000gn/T/ipykernel_14103/1875528705.py:20: FutureWarning:\n",
      "\n",
      "DataFrame.fillna with 'method' is deprecated and will raise in a future version. Use obj.ffill() or obj.bfill() instead.\n",
      "\n"
     ]
    },
    {
     "data": {
      "text/html": [
       "<div>\n",
       "<style scoped>\n",
       "    .dataframe tbody tr th:only-of-type {\n",
       "        vertical-align: middle;\n",
       "    }\n",
       "\n",
       "    .dataframe tbody tr th {\n",
       "        vertical-align: top;\n",
       "    }\n",
       "\n",
       "    .dataframe thead tr th {\n",
       "        text-align: left;\n",
       "    }\n",
       "\n",
       "    .dataframe thead tr:last-of-type th {\n",
       "        text-align: right;\n",
       "    }\n",
       "</style>\n",
       "<table border=\"1\" class=\"dataframe\">\n",
       "  <thead>\n",
       "    <tr>\n",
       "      <th>Price</th>\n",
       "      <th>Adj Close</th>\n",
       "      <th>Close</th>\n",
       "      <th>High</th>\n",
       "      <th>Low</th>\n",
       "      <th>Open</th>\n",
       "      <th>Volume</th>\n",
       "    </tr>\n",
       "    <tr>\n",
       "      <th>Ticker</th>\n",
       "      <th>SPX250620P05700000</th>\n",
       "      <th>SPX250620P05700000</th>\n",
       "      <th>SPX250620P05700000</th>\n",
       "      <th>SPX250620P05700000</th>\n",
       "      <th>SPX250620P05700000</th>\n",
       "      <th>SPX250620P05700000</th>\n",
       "    </tr>\n",
       "    <tr>\n",
       "      <th>Date</th>\n",
       "      <th></th>\n",
       "      <th></th>\n",
       "      <th></th>\n",
       "      <th></th>\n",
       "      <th></th>\n",
       "      <th></th>\n",
       "    </tr>\n",
       "  </thead>\n",
       "  <tbody>\n",
       "    <tr>\n",
       "      <th>2024-11-04 00:00:00+00:00</th>\n",
       "      <td>223.800003</td>\n",
       "      <td>223.800003</td>\n",
       "      <td>230.979996</td>\n",
       "      <td>221.000000</td>\n",
       "      <td>230.979996</td>\n",
       "      <td>1079</td>\n",
       "    </tr>\n",
       "    <tr>\n",
       "      <th>2024-11-05 00:00:00+00:00</th>\n",
       "      <td>198.279999</td>\n",
       "      <td>198.279999</td>\n",
       "      <td>213.630005</td>\n",
       "      <td>198.279999</td>\n",
       "      <td>213.630005</td>\n",
       "      <td>293</td>\n",
       "    </tr>\n",
       "    <tr>\n",
       "      <th>2024-11-06 00:00:00+00:00</th>\n",
       "      <td>151.509995</td>\n",
       "      <td>151.509995</td>\n",
       "      <td>161.729996</td>\n",
       "      <td>151.509995</td>\n",
       "      <td>155.600006</td>\n",
       "      <td>327</td>\n",
       "    </tr>\n",
       "    <tr>\n",
       "      <th>2024-11-07 00:00:00+00:00</th>\n",
       "      <td>136.039993</td>\n",
       "      <td>136.039993</td>\n",
       "      <td>144.690002</td>\n",
       "      <td>135.979996</td>\n",
       "      <td>144.690002</td>\n",
       "      <td>161</td>\n",
       "    </tr>\n",
       "    <tr>\n",
       "      <th>2024-11-08 00:00:00+00:00</th>\n",
       "      <td>130.869995</td>\n",
       "      <td>130.869995</td>\n",
       "      <td>139.589996</td>\n",
       "      <td>130.869995</td>\n",
       "      <td>139.589996</td>\n",
       "      <td>144</td>\n",
       "    </tr>\n",
       "    <tr>\n",
       "      <th>2024-11-11 00:00:00+00:00</th>\n",
       "      <td>130.690002</td>\n",
       "      <td>130.690002</td>\n",
       "      <td>131.949997</td>\n",
       "      <td>127.160004</td>\n",
       "      <td>127.160004</td>\n",
       "      <td>252</td>\n",
       "    </tr>\n",
       "    <tr>\n",
       "      <th>2024-11-12 00:00:00+00:00</th>\n",
       "      <td>133.100006</td>\n",
       "      <td>133.100006</td>\n",
       "      <td>139.339996</td>\n",
       "      <td>130.889999</td>\n",
       "      <td>133.619995</td>\n",
       "      <td>495</td>\n",
       "    </tr>\n",
       "    <tr>\n",
       "      <th>2024-11-13 00:00:00+00:00</th>\n",
       "      <td>130.130005</td>\n",
       "      <td>130.130005</td>\n",
       "      <td>138.339996</td>\n",
       "      <td>127.300003</td>\n",
       "      <td>138.339996</td>\n",
       "      <td>0</td>\n",
       "    </tr>\n",
       "    <tr>\n",
       "      <th>2024-11-14 00:00:00+00:00</th>\n",
       "      <td>138.429993</td>\n",
       "      <td>138.429993</td>\n",
       "      <td>138.429993</td>\n",
       "      <td>129.899994</td>\n",
       "      <td>129.949997</td>\n",
       "      <td>578</td>\n",
       "    </tr>\n",
       "    <tr>\n",
       "      <th>2024-11-15 00:00:00+00:00</th>\n",
       "      <td>163.839996</td>\n",
       "      <td>163.839996</td>\n",
       "      <td>167.580002</td>\n",
       "      <td>150.740005</td>\n",
       "      <td>150.740005</td>\n",
       "      <td>1381</td>\n",
       "    </tr>\n",
       "    <tr>\n",
       "      <th>2024-11-18 00:00:00+00:00</th>\n",
       "      <td>152.360001</td>\n",
       "      <td>152.360001</td>\n",
       "      <td>159.500000</td>\n",
       "      <td>149.190002</td>\n",
       "      <td>159.500000</td>\n",
       "      <td>17</td>\n",
       "    </tr>\n",
       "    <tr>\n",
       "      <th>2024-11-19 00:00:00+00:00</th>\n",
       "      <td>146.399994</td>\n",
       "      <td>146.399994</td>\n",
       "      <td>166.309998</td>\n",
       "      <td>145.550003</td>\n",
       "      <td>164.289993</td>\n",
       "      <td>258</td>\n",
       "    </tr>\n",
       "    <tr>\n",
       "      <th>2024-11-20 00:00:00+00:00</th>\n",
       "      <td>160.300003</td>\n",
       "      <td>160.300003</td>\n",
       "      <td>164.610001</td>\n",
       "      <td>159.500000</td>\n",
       "      <td>164.610001</td>\n",
       "      <td>59</td>\n",
       "    </tr>\n",
       "    <tr>\n",
       "      <th>2024-11-21 00:00:00+00:00</th>\n",
       "      <td>142.360001</td>\n",
       "      <td>142.360001</td>\n",
       "      <td>161.979996</td>\n",
       "      <td>141.369995</td>\n",
       "      <td>146.699997</td>\n",
       "      <td>462</td>\n",
       "    </tr>\n",
       "    <tr>\n",
       "      <th>2024-11-22 00:00:00+00:00</th>\n",
       "      <td>137.529999</td>\n",
       "      <td>137.529999</td>\n",
       "      <td>141.470001</td>\n",
       "      <td>134.089996</td>\n",
       "      <td>136.619995</td>\n",
       "      <td>245</td>\n",
       "    </tr>\n",
       "    <tr>\n",
       "      <th>2024-11-25 00:00:00+00:00</th>\n",
       "      <td>126.080002</td>\n",
       "      <td>126.080002</td>\n",
       "      <td>134.419998</td>\n",
       "      <td>125.900002</td>\n",
       "      <td>125.900002</td>\n",
       "      <td>0</td>\n",
       "    </tr>\n",
       "  </tbody>\n",
       "</table>\n",
       "</div>"
      ],
      "text/plain": [
       "Price                              Adj Close              Close  \\\n",
       "Ticker                    SPX250620P05700000 SPX250620P05700000   \n",
       "Date                                                              \n",
       "2024-11-04 00:00:00+00:00         223.800003         223.800003   \n",
       "2024-11-05 00:00:00+00:00         198.279999         198.279999   \n",
       "2024-11-06 00:00:00+00:00         151.509995         151.509995   \n",
       "2024-11-07 00:00:00+00:00         136.039993         136.039993   \n",
       "2024-11-08 00:00:00+00:00         130.869995         130.869995   \n",
       "2024-11-11 00:00:00+00:00         130.690002         130.690002   \n",
       "2024-11-12 00:00:00+00:00         133.100006         133.100006   \n",
       "2024-11-13 00:00:00+00:00         130.130005         130.130005   \n",
       "2024-11-14 00:00:00+00:00         138.429993         138.429993   \n",
       "2024-11-15 00:00:00+00:00         163.839996         163.839996   \n",
       "2024-11-18 00:00:00+00:00         152.360001         152.360001   \n",
       "2024-11-19 00:00:00+00:00         146.399994         146.399994   \n",
       "2024-11-20 00:00:00+00:00         160.300003         160.300003   \n",
       "2024-11-21 00:00:00+00:00         142.360001         142.360001   \n",
       "2024-11-22 00:00:00+00:00         137.529999         137.529999   \n",
       "2024-11-25 00:00:00+00:00         126.080002         126.080002   \n",
       "\n",
       "Price                                   High                Low  \\\n",
       "Ticker                    SPX250620P05700000 SPX250620P05700000   \n",
       "Date                                                              \n",
       "2024-11-04 00:00:00+00:00         230.979996         221.000000   \n",
       "2024-11-05 00:00:00+00:00         213.630005         198.279999   \n",
       "2024-11-06 00:00:00+00:00         161.729996         151.509995   \n",
       "2024-11-07 00:00:00+00:00         144.690002         135.979996   \n",
       "2024-11-08 00:00:00+00:00         139.589996         130.869995   \n",
       "2024-11-11 00:00:00+00:00         131.949997         127.160004   \n",
       "2024-11-12 00:00:00+00:00         139.339996         130.889999   \n",
       "2024-11-13 00:00:00+00:00         138.339996         127.300003   \n",
       "2024-11-14 00:00:00+00:00         138.429993         129.899994   \n",
       "2024-11-15 00:00:00+00:00         167.580002         150.740005   \n",
       "2024-11-18 00:00:00+00:00         159.500000         149.190002   \n",
       "2024-11-19 00:00:00+00:00         166.309998         145.550003   \n",
       "2024-11-20 00:00:00+00:00         164.610001         159.500000   \n",
       "2024-11-21 00:00:00+00:00         161.979996         141.369995   \n",
       "2024-11-22 00:00:00+00:00         141.470001         134.089996   \n",
       "2024-11-25 00:00:00+00:00         134.419998         125.900002   \n",
       "\n",
       "Price                                   Open             Volume  \n",
       "Ticker                    SPX250620P05700000 SPX250620P05700000  \n",
       "Date                                                             \n",
       "2024-11-04 00:00:00+00:00         230.979996               1079  \n",
       "2024-11-05 00:00:00+00:00         213.630005                293  \n",
       "2024-11-06 00:00:00+00:00         155.600006                327  \n",
       "2024-11-07 00:00:00+00:00         144.690002                161  \n",
       "2024-11-08 00:00:00+00:00         139.589996                144  \n",
       "2024-11-11 00:00:00+00:00         127.160004                252  \n",
       "2024-11-12 00:00:00+00:00         133.619995                495  \n",
       "2024-11-13 00:00:00+00:00         138.339996                  0  \n",
       "2024-11-14 00:00:00+00:00         129.949997                578  \n",
       "2024-11-15 00:00:00+00:00         150.740005               1381  \n",
       "2024-11-18 00:00:00+00:00         159.500000                 17  \n",
       "2024-11-19 00:00:00+00:00         164.289993                258  \n",
       "2024-11-20 00:00:00+00:00         164.610001                 59  \n",
       "2024-11-21 00:00:00+00:00         146.699997                462  \n",
       "2024-11-22 00:00:00+00:00         136.619995                245  \n",
       "2024-11-25 00:00:00+00:00         125.900002                  0  "
      ]
     },
     "execution_count": 158,
     "metadata": {},
     "output_type": "execute_result"
    }
   ],
   "source": [
    "import yfinance as yf\n",
    "import pandas as pd\n",
    "\n",
    "# Define the date range\n",
    "start_date = \"2024-11-02\"\n",
    "end_date = \"2024-11-26\"\n",
    "\n",
    "# Define the options tickers\n",
    "options_tickers = [\"SPX260116P05300000\", \"SPX250620P05700000\"]  # Replace with correct tickers if needed.\n",
    "\n",
    "\n",
    "option_data1 = yf.download(\"SPX260116P05300000\", start=start_date, end=end_date, interval='1d')\n",
    "option_data2 = yf.download(\"SPX250620P05700000\", start=start_date, end=end_date, interval='1d')\n",
    "\n",
    "option_data_df1 = pd.DataFrame(option_data1)\n",
    "option_data_df1.fillna(method='ffill', inplace=True)  # Forward fill\n",
    "# option_data_df1.fillna(method='bfill', inplace=True)  # Backward fill\n",
    "\n",
    "option_data_df2 = pd.DataFrame(option_data2)\n",
    "option_data_df2.fillna(method='ffill', inplace=True)  # Forward fill\n",
    "# option_data_df1\n",
    "option_data_df2\n"
   ]
  },
  {
   "cell_type": "code",
   "execution_count": 159,
   "metadata": {},
   "outputs": [
    {
     "name": "stderr",
     "output_type": "stream",
     "text": [
      "/var/folders/38/nx0s9dz55h1dpkx5p0wgg46m0000gn/T/ipykernel_14103/1847183584.py:27: FutureWarning:\n",
      "\n",
      "Series.__getitem__ treating keys as positions is deprecated. In a future version, integer keys will always be treated as labels (consistent with DataFrame behavior). To access a value by position, use `ser.iloc[pos]`\n",
      "\n",
      "[*********************100%***********************]  1 of 1 completed\n",
      "/var/folders/38/nx0s9dz55h1dpkx5p0wgg46m0000gn/T/ipykernel_14103/1847183584.py:36: FutureWarning:\n",
      "\n",
      "Series.__getitem__ treating keys as positions is deprecated. In a future version, integer keys will always be treated as labels (consistent with DataFrame behavior). To access a value by position, use `ser.iloc[pos]`\n",
      "\n",
      "/var/folders/38/nx0s9dz55h1dpkx5p0wgg46m0000gn/T/ipykernel_14103/1847183584.py:85: FutureWarning:\n",
      "\n",
      "The behavior of DataFrame concatenation with empty or all-NA entries is deprecated. In a future version, this will no longer exclude empty or all-NA columns when determining the result dtypes. To retain the old behavior, exclude the relevant entries before the concat operation.\n",
      "\n",
      "/var/folders/38/nx0s9dz55h1dpkx5p0wgg46m0000gn/T/ipykernel_14103/1847183584.py:27: FutureWarning:\n",
      "\n",
      "Series.__getitem__ treating keys as positions is deprecated. In a future version, integer keys will always be treated as labels (consistent with DataFrame behavior). To access a value by position, use `ser.iloc[pos]`\n",
      "\n",
      "[*********************100%***********************]  1 of 1 completed\n",
      "/var/folders/38/nx0s9dz55h1dpkx5p0wgg46m0000gn/T/ipykernel_14103/1847183584.py:36: FutureWarning:\n",
      "\n",
      "Series.__getitem__ treating keys as positions is deprecated. In a future version, integer keys will always be treated as labels (consistent with DataFrame behavior). To access a value by position, use `ser.iloc[pos]`\n",
      "\n",
      "/var/folders/38/nx0s9dz55h1dpkx5p0wgg46m0000gn/T/ipykernel_14103/1847183584.py:27: FutureWarning:\n",
      "\n",
      "Series.__getitem__ treating keys as positions is deprecated. In a future version, integer keys will always be treated as labels (consistent with DataFrame behavior). To access a value by position, use `ser.iloc[pos]`\n",
      "\n",
      "[*********************100%***********************]  1 of 1 completed\n",
      "/var/folders/38/nx0s9dz55h1dpkx5p0wgg46m0000gn/T/ipykernel_14103/1847183584.py:36: FutureWarning:\n",
      "\n",
      "Series.__getitem__ treating keys as positions is deprecated. In a future version, integer keys will always be treated as labels (consistent with DataFrame behavior). To access a value by position, use `ser.iloc[pos]`\n",
      "\n",
      "/var/folders/38/nx0s9dz55h1dpkx5p0wgg46m0000gn/T/ipykernel_14103/1847183584.py:27: FutureWarning:\n",
      "\n",
      "Series.__getitem__ treating keys as positions is deprecated. In a future version, integer keys will always be treated as labels (consistent with DataFrame behavior). To access a value by position, use `ser.iloc[pos]`\n",
      "\n",
      "[*********************100%***********************]  1 of 1 completed\n",
      "/var/folders/38/nx0s9dz55h1dpkx5p0wgg46m0000gn/T/ipykernel_14103/1847183584.py:36: FutureWarning:\n",
      "\n",
      "Series.__getitem__ treating keys as positions is deprecated. In a future version, integer keys will always be treated as labels (consistent with DataFrame behavior). To access a value by position, use `ser.iloc[pos]`\n",
      "\n",
      "/var/folders/38/nx0s9dz55h1dpkx5p0wgg46m0000gn/T/ipykernel_14103/1847183584.py:27: FutureWarning:\n",
      "\n",
      "Series.__getitem__ treating keys as positions is deprecated. In a future version, integer keys will always be treated as labels (consistent with DataFrame behavior). To access a value by position, use `ser.iloc[pos]`\n",
      "\n",
      "[*********************100%***********************]  1 of 1 completed\n",
      "/var/folders/38/nx0s9dz55h1dpkx5p0wgg46m0000gn/T/ipykernel_14103/1847183584.py:36: FutureWarning:\n",
      "\n",
      "Series.__getitem__ treating keys as positions is deprecated. In a future version, integer keys will always be treated as labels (consistent with DataFrame behavior). To access a value by position, use `ser.iloc[pos]`\n",
      "\n",
      "/var/folders/38/nx0s9dz55h1dpkx5p0wgg46m0000gn/T/ipykernel_14103/1847183584.py:27: FutureWarning:\n",
      "\n",
      "Series.__getitem__ treating keys as positions is deprecated. In a future version, integer keys will always be treated as labels (consistent with DataFrame behavior). To access a value by position, use `ser.iloc[pos]`\n",
      "\n",
      "[*********************100%***********************]  1 of 1 completed\n",
      "/var/folders/38/nx0s9dz55h1dpkx5p0wgg46m0000gn/T/ipykernel_14103/1847183584.py:36: FutureWarning:\n",
      "\n",
      "Series.__getitem__ treating keys as positions is deprecated. In a future version, integer keys will always be treated as labels (consistent with DataFrame behavior). To access a value by position, use `ser.iloc[pos]`\n",
      "\n",
      "/var/folders/38/nx0s9dz55h1dpkx5p0wgg46m0000gn/T/ipykernel_14103/1847183584.py:27: FutureWarning:\n",
      "\n",
      "Series.__getitem__ treating keys as positions is deprecated. In a future version, integer keys will always be treated as labels (consistent with DataFrame behavior). To access a value by position, use `ser.iloc[pos]`\n",
      "\n",
      "[*********************100%***********************]  1 of 1 completed\n",
      "/var/folders/38/nx0s9dz55h1dpkx5p0wgg46m0000gn/T/ipykernel_14103/1847183584.py:36: FutureWarning:\n",
      "\n",
      "Series.__getitem__ treating keys as positions is deprecated. In a future version, integer keys will always be treated as labels (consistent with DataFrame behavior). To access a value by position, use `ser.iloc[pos]`\n",
      "\n",
      "/var/folders/38/nx0s9dz55h1dpkx5p0wgg46m0000gn/T/ipykernel_14103/1847183584.py:27: FutureWarning:\n",
      "\n",
      "Series.__getitem__ treating keys as positions is deprecated. In a future version, integer keys will always be treated as labels (consistent with DataFrame behavior). To access a value by position, use `ser.iloc[pos]`\n",
      "\n",
      "[*********************100%***********************]  1 of 1 completed\n",
      "/var/folders/38/nx0s9dz55h1dpkx5p0wgg46m0000gn/T/ipykernel_14103/1847183584.py:36: FutureWarning:\n",
      "\n",
      "Series.__getitem__ treating keys as positions is deprecated. In a future version, integer keys will always be treated as labels (consistent with DataFrame behavior). To access a value by position, use `ser.iloc[pos]`\n",
      "\n",
      "/var/folders/38/nx0s9dz55h1dpkx5p0wgg46m0000gn/T/ipykernel_14103/1847183584.py:27: FutureWarning:\n",
      "\n",
      "Series.__getitem__ treating keys as positions is deprecated. In a future version, integer keys will always be treated as labels (consistent with DataFrame behavior). To access a value by position, use `ser.iloc[pos]`\n",
      "\n",
      "[*********************100%***********************]  1 of 1 completed\n",
      "/var/folders/38/nx0s9dz55h1dpkx5p0wgg46m0000gn/T/ipykernel_14103/1847183584.py:36: FutureWarning:\n",
      "\n",
      "Series.__getitem__ treating keys as positions is deprecated. In a future version, integer keys will always be treated as labels (consistent with DataFrame behavior). To access a value by position, use `ser.iloc[pos]`\n",
      "\n",
      "/var/folders/38/nx0s9dz55h1dpkx5p0wgg46m0000gn/T/ipykernel_14103/1847183584.py:27: FutureWarning:\n",
      "\n",
      "Series.__getitem__ treating keys as positions is deprecated. In a future version, integer keys will always be treated as labels (consistent with DataFrame behavior). To access a value by position, use `ser.iloc[pos]`\n",
      "\n",
      "[*********************100%***********************]  1 of 1 completed\n",
      "/var/folders/38/nx0s9dz55h1dpkx5p0wgg46m0000gn/T/ipykernel_14103/1847183584.py:36: FutureWarning:\n",
      "\n",
      "Series.__getitem__ treating keys as positions is deprecated. In a future version, integer keys will always be treated as labels (consistent with DataFrame behavior). To access a value by position, use `ser.iloc[pos]`\n",
      "\n",
      "/var/folders/38/nx0s9dz55h1dpkx5p0wgg46m0000gn/T/ipykernel_14103/1847183584.py:27: FutureWarning:\n",
      "\n",
      "Series.__getitem__ treating keys as positions is deprecated. In a future version, integer keys will always be treated as labels (consistent with DataFrame behavior). To access a value by position, use `ser.iloc[pos]`\n",
      "\n",
      "[*********************100%***********************]  1 of 1 completed\n",
      "/var/folders/38/nx0s9dz55h1dpkx5p0wgg46m0000gn/T/ipykernel_14103/1847183584.py:36: FutureWarning:\n",
      "\n",
      "Series.__getitem__ treating keys as positions is deprecated. In a future version, integer keys will always be treated as labels (consistent with DataFrame behavior). To access a value by position, use `ser.iloc[pos]`\n",
      "\n",
      "/var/folders/38/nx0s9dz55h1dpkx5p0wgg46m0000gn/T/ipykernel_14103/1847183584.py:27: FutureWarning:\n",
      "\n",
      "Series.__getitem__ treating keys as positions is deprecated. In a future version, integer keys will always be treated as labels (consistent with DataFrame behavior). To access a value by position, use `ser.iloc[pos]`\n",
      "\n",
      "[*********************100%***********************]  1 of 1 completed\n",
      "/var/folders/38/nx0s9dz55h1dpkx5p0wgg46m0000gn/T/ipykernel_14103/1847183584.py:36: FutureWarning:\n",
      "\n",
      "Series.__getitem__ treating keys as positions is deprecated. In a future version, integer keys will always be treated as labels (consistent with DataFrame behavior). To access a value by position, use `ser.iloc[pos]`\n",
      "\n",
      "/var/folders/38/nx0s9dz55h1dpkx5p0wgg46m0000gn/T/ipykernel_14103/1847183584.py:27: FutureWarning:\n",
      "\n",
      "Series.__getitem__ treating keys as positions is deprecated. In a future version, integer keys will always be treated as labels (consistent with DataFrame behavior). To access a value by position, use `ser.iloc[pos]`\n",
      "\n",
      "[*********************100%***********************]  1 of 1 completed\n",
      "/var/folders/38/nx0s9dz55h1dpkx5p0wgg46m0000gn/T/ipykernel_14103/1847183584.py:36: FutureWarning:\n",
      "\n",
      "Series.__getitem__ treating keys as positions is deprecated. In a future version, integer keys will always be treated as labels (consistent with DataFrame behavior). To access a value by position, use `ser.iloc[pos]`\n",
      "\n",
      "/var/folders/38/nx0s9dz55h1dpkx5p0wgg46m0000gn/T/ipykernel_14103/1847183584.py:27: FutureWarning:\n",
      "\n",
      "Series.__getitem__ treating keys as positions is deprecated. In a future version, integer keys will always be treated as labels (consistent with DataFrame behavior). To access a value by position, use `ser.iloc[pos]`\n",
      "\n",
      "[*********************100%***********************]  1 of 1 completed\n",
      "/var/folders/38/nx0s9dz55h1dpkx5p0wgg46m0000gn/T/ipykernel_14103/1847183584.py:36: FutureWarning:\n",
      "\n",
      "Series.__getitem__ treating keys as positions is deprecated. In a future version, integer keys will always be treated as labels (consistent with DataFrame behavior). To access a value by position, use `ser.iloc[pos]`\n",
      "\n",
      "/var/folders/38/nx0s9dz55h1dpkx5p0wgg46m0000gn/T/ipykernel_14103/1847183584.py:27: FutureWarning:\n",
      "\n",
      "Series.__getitem__ treating keys as positions is deprecated. In a future version, integer keys will always be treated as labels (consistent with DataFrame behavior). To access a value by position, use `ser.iloc[pos]`\n",
      "\n",
      "[*********************100%***********************]  1 of 1 completed\n",
      "/var/folders/38/nx0s9dz55h1dpkx5p0wgg46m0000gn/T/ipykernel_14103/1847183584.py:36: FutureWarning:\n",
      "\n",
      "Series.__getitem__ treating keys as positions is deprecated. In a future version, integer keys will always be treated as labels (consistent with DataFrame behavior). To access a value by position, use `ser.iloc[pos]`\n",
      "\n",
      "/var/folders/38/nx0s9dz55h1dpkx5p0wgg46m0000gn/T/ipykernel_14103/1847183584.py:27: FutureWarning:\n",
      "\n",
      "Series.__getitem__ treating keys as positions is deprecated. In a future version, integer keys will always be treated as labels (consistent with DataFrame behavior). To access a value by position, use `ser.iloc[pos]`\n",
      "\n",
      "[*********************100%***********************]  1 of 1 completed\n",
      "/var/folders/38/nx0s9dz55h1dpkx5p0wgg46m0000gn/T/ipykernel_14103/1847183584.py:36: FutureWarning:\n",
      "\n",
      "Series.__getitem__ treating keys as positions is deprecated. In a future version, integer keys will always be treated as labels (consistent with DataFrame behavior). To access a value by position, use `ser.iloc[pos]`\n",
      "\n",
      "/var/folders/38/nx0s9dz55h1dpkx5p0wgg46m0000gn/T/ipykernel_14103/1847183584.py:27: FutureWarning:\n",
      "\n",
      "Series.__getitem__ treating keys as positions is deprecated. In a future version, integer keys will always be treated as labels (consistent with DataFrame behavior). To access a value by position, use `ser.iloc[pos]`\n",
      "\n",
      "[*********************100%***********************]  1 of 1 completed\n",
      "/var/folders/38/nx0s9dz55h1dpkx5p0wgg46m0000gn/T/ipykernel_14103/1847183584.py:36: FutureWarning:\n",
      "\n",
      "Series.__getitem__ treating keys as positions is deprecated. In a future version, integer keys will always be treated as labels (consistent with DataFrame behavior). To access a value by position, use `ser.iloc[pos]`\n",
      "\n",
      "/var/folders/38/nx0s9dz55h1dpkx5p0wgg46m0000gn/T/ipykernel_14103/1847183584.py:27: FutureWarning:\n",
      "\n",
      "Series.__getitem__ treating keys as positions is deprecated. In a future version, integer keys will always be treated as labels (consistent with DataFrame behavior). To access a value by position, use `ser.iloc[pos]`\n",
      "\n",
      "[*********************100%***********************]  1 of 1 completed\n",
      "/var/folders/38/nx0s9dz55h1dpkx5p0wgg46m0000gn/T/ipykernel_14103/1847183584.py:36: FutureWarning:\n",
      "\n",
      "Series.__getitem__ treating keys as positions is deprecated. In a future version, integer keys will always be treated as labels (consistent with DataFrame behavior). To access a value by position, use `ser.iloc[pos]`\n",
      "\n",
      "/var/folders/38/nx0s9dz55h1dpkx5p0wgg46m0000gn/T/ipykernel_14103/1847183584.py:27: FutureWarning:\n",
      "\n",
      "Series.__getitem__ treating keys as positions is deprecated. In a future version, integer keys will always be treated as labels (consistent with DataFrame behavior). To access a value by position, use `ser.iloc[pos]`\n",
      "\n",
      "[*********************100%***********************]  1 of 1 completed\n",
      "/var/folders/38/nx0s9dz55h1dpkx5p0wgg46m0000gn/T/ipykernel_14103/1847183584.py:36: FutureWarning:\n",
      "\n",
      "Series.__getitem__ treating keys as positions is deprecated. In a future version, integer keys will always be treated as labels (consistent with DataFrame behavior). To access a value by position, use `ser.iloc[pos]`\n",
      "\n",
      "/var/folders/38/nx0s9dz55h1dpkx5p0wgg46m0000gn/T/ipykernel_14103/1847183584.py:27: FutureWarning:\n",
      "\n",
      "Series.__getitem__ treating keys as positions is deprecated. In a future version, integer keys will always be treated as labels (consistent with DataFrame behavior). To access a value by position, use `ser.iloc[pos]`\n",
      "\n",
      "[*********************100%***********************]  1 of 1 completed\n",
      "/var/folders/38/nx0s9dz55h1dpkx5p0wgg46m0000gn/T/ipykernel_14103/1847183584.py:36: FutureWarning:\n",
      "\n",
      "Series.__getitem__ treating keys as positions is deprecated. In a future version, integer keys will always be treated as labels (consistent with DataFrame behavior). To access a value by position, use `ser.iloc[pos]`\n",
      "\n",
      "/var/folders/38/nx0s9dz55h1dpkx5p0wgg46m0000gn/T/ipykernel_14103/1847183584.py:27: FutureWarning:\n",
      "\n",
      "Series.__getitem__ treating keys as positions is deprecated. In a future version, integer keys will always be treated as labels (consistent with DataFrame behavior). To access a value by position, use `ser.iloc[pos]`\n",
      "\n",
      "[*********************100%***********************]  1 of 1 completed\n",
      "/var/folders/38/nx0s9dz55h1dpkx5p0wgg46m0000gn/T/ipykernel_14103/1847183584.py:36: FutureWarning:\n",
      "\n",
      "Series.__getitem__ treating keys as positions is deprecated. In a future version, integer keys will always be treated as labels (consistent with DataFrame behavior). To access a value by position, use `ser.iloc[pos]`\n",
      "\n",
      "/var/folders/38/nx0s9dz55h1dpkx5p0wgg46m0000gn/T/ipykernel_14103/1847183584.py:27: FutureWarning:\n",
      "\n",
      "Series.__getitem__ treating keys as positions is deprecated. In a future version, integer keys will always be treated as labels (consistent with DataFrame behavior). To access a value by position, use `ser.iloc[pos]`\n",
      "\n",
      "[*********************100%***********************]  1 of 1 completed\n",
      "/var/folders/38/nx0s9dz55h1dpkx5p0wgg46m0000gn/T/ipykernel_14103/1847183584.py:36: FutureWarning:\n",
      "\n",
      "Series.__getitem__ treating keys as positions is deprecated. In a future version, integer keys will always be treated as labels (consistent with DataFrame behavior). To access a value by position, use `ser.iloc[pos]`\n",
      "\n",
      "/var/folders/38/nx0s9dz55h1dpkx5p0wgg46m0000gn/T/ipykernel_14103/1847183584.py:27: FutureWarning:\n",
      "\n",
      "Series.__getitem__ treating keys as positions is deprecated. In a future version, integer keys will always be treated as labels (consistent with DataFrame behavior). To access a value by position, use `ser.iloc[pos]`\n",
      "\n",
      "[*********************100%***********************]  1 of 1 completed\n",
      "/var/folders/38/nx0s9dz55h1dpkx5p0wgg46m0000gn/T/ipykernel_14103/1847183584.py:36: FutureWarning:\n",
      "\n",
      "Series.__getitem__ treating keys as positions is deprecated. In a future version, integer keys will always be treated as labels (consistent with DataFrame behavior). To access a value by position, use `ser.iloc[pos]`\n",
      "\n",
      "/var/folders/38/nx0s9dz55h1dpkx5p0wgg46m0000gn/T/ipykernel_14103/1847183584.py:27: FutureWarning:\n",
      "\n",
      "Series.__getitem__ treating keys as positions is deprecated. In a future version, integer keys will always be treated as labels (consistent with DataFrame behavior). To access a value by position, use `ser.iloc[pos]`\n",
      "\n",
      "[*********************100%***********************]  1 of 1 completed\n",
      "/var/folders/38/nx0s9dz55h1dpkx5p0wgg46m0000gn/T/ipykernel_14103/1847183584.py:36: FutureWarning:\n",
      "\n",
      "Series.__getitem__ treating keys as positions is deprecated. In a future version, integer keys will always be treated as labels (consistent with DataFrame behavior). To access a value by position, use `ser.iloc[pos]`\n",
      "\n",
      "/var/folders/38/nx0s9dz55h1dpkx5p0wgg46m0000gn/T/ipykernel_14103/1847183584.py:27: FutureWarning:\n",
      "\n",
      "Series.__getitem__ treating keys as positions is deprecated. In a future version, integer keys will always be treated as labels (consistent with DataFrame behavior). To access a value by position, use `ser.iloc[pos]`\n",
      "\n",
      "[*********************100%***********************]  1 of 1 completed\n",
      "/var/folders/38/nx0s9dz55h1dpkx5p0wgg46m0000gn/T/ipykernel_14103/1847183584.py:36: FutureWarning:\n",
      "\n",
      "Series.__getitem__ treating keys as positions is deprecated. In a future version, integer keys will always be treated as labels (consistent with DataFrame behavior). To access a value by position, use `ser.iloc[pos]`\n",
      "\n"
     ]
    }
   ],
   "source": [
    "import math\n",
    "import numpy as np\n",
    "import yfinance as yf\n",
    "from datetime import datetime, timedelta\n",
    "import pandas as pd\n",
    "from fredapi import Fred\n",
    "\n",
    "# Initialize the SPXW ticker and Fred API\n",
    "SPXW = yf.Ticker(\"^SPX\")\n",
    "fredAPIKey = 'a4dbd27388238842e83d39b9959f2759'\n",
    "fred = Fred(api_key=fredAPIKey)\n",
    "\n",
    "# Define the date range\n",
    "start_date = datetime(2024, 11, 2)\n",
    "end_date = datetime(2024, 11, 26)\n",
    "\n",
    "# Create an empty DataFrame to store the results\n",
    "columns = [\n",
    "    'Date', 'PricePut5700', 'RealPricePut5700', 'DeltaPut5700',\n",
    "    'PricePut5300', 'RealPricePut5300', 'DeltaPut5300'\n",
    "]\n",
    "results = pd.DataFrame(columns=columns)\n",
    "\n",
    "# Loop over each date in the range\n",
    "current_date = start_date\n",
    "while current_date <= end_date:\n",
    "    s = SPXW.history(period='1d')['Close'][0]\n",
    "\n",
    "    # Calculate SPXW volatility\n",
    "    data = yf.download('^SPX', period='1y')\n",
    "    data['Daily Return'] = data['Close'].pct_change()\n",
    "    vol = data['Daily Return'].std() * np.sqrt(252)\n",
    "\n",
    "    # Risk-free interest rate\n",
    "    riskFreeRateSeries = fred.get_series('DGS1')\n",
    "    riskFreeRate = riskFreeRateSeries[-1] / 100\n",
    "    r = riskFreeRate\n",
    "\n",
    "    # Option Jun 25 Put 5700\n",
    "    k = 5700\n",
    "    t = ((datetime(2025, 6, 20) - current_date).days) / 365.25\n",
    "    optJun25P5700 = SPXW.option_chain('2025-06-20')\n",
    "    putJun25P5700 = optJun25P5700.puts\n",
    "    x = putJun25P5700[putJun25P5700['strike'] == 5700]\n",
    "    lst = x.values.tolist()\n",
    "    realPricePut5700 = lst[0][3]\n",
    "\n",
    "    # Option Jan 26 Put 5300\n",
    "    k2 = 5300\n",
    "    t2 = ((datetime(2026, 1, 16) - current_date).days) / 365.25\n",
    "    optJan16P5300 = SPXW.option_chain('2026-01-16')\n",
    "    putJan16P5300 = optJan16P5300.puts\n",
    "    x2 = putJan16P5300[putJan16P5300['strike'] == 5300]\n",
    "    lst2 = x2.values.tolist()\n",
    "    realPricePut5300 = lst2[0][3]\n",
    "\n",
    "    def normCdf(x):\n",
    "        return (1.0 + math.erf(x / math.sqrt(2.0))) / 2.0\n",
    "\n",
    "    def putCalculation(s, r, k, t, vol):\n",
    "        d1 = (math.log(s / k) + (r + 0.5 * vol ** 2) * t) / (vol * math.sqrt(t))\n",
    "        d2 = d1 - (vol * math.sqrt(t))\n",
    "        Put = k * math.exp(-r * t) * normCdf(-d2) - s * normCdf(-d1)\n",
    "        return Put\n",
    "\n",
    "    pricePut5700 = putCalculation(s, r, k, t, vol)\n",
    "    pricePut5300 = putCalculation(s, r, k2, t2, vol)\n",
    "\n",
    "    # Calculate deltas\n",
    "    deltaPut5700 = pricePut5700 - realPricePut5700\n",
    "    deltaPut5300 = pricePut5300 - realPricePut5300\n",
    "\n",
    "    # Create a DataFrame for the new row\n",
    "    new_row = pd.DataFrame([{\n",
    "        'Date': current_date.date(),\n",
    "        'PricePut5700': round(pricePut5700, 2),\n",
    "        'RealPricePut5700': realPricePut5700,\n",
    "        'DeltaPut5700': round(deltaPut5700, 2),\n",
    "        'PricePut5300': round(pricePut5300, 2),\n",
    "        'RealPricePut5300': realPricePut5300,\n",
    "        'DeltaPut5300': round(deltaPut5300, 2)\n",
    "    }])\n",
    "\n",
    "    # Append the new row to the results DataFrame\n",
    "    results = pd.concat([results, new_row], ignore_index=True)\n",
    "\n",
    "    # Move to the next date\n",
    "    current_date += timedelta(days=1)\n",
    "\n",
    "# Print the final DataFrame\n",
    "# print(results)\n",
    "\n",
    "# Optionally save the DataFrame to an Excel file\n",
    "# results.to_excel('SPXW_Option_Prices.xlsx', index=False)\n"
   ]
  },
  {
   "cell_type": "code",
   "execution_count": 160,
   "metadata": {},
   "outputs": [],
   "source": [
    "option_data_df1 = option_data_df1.rename(columns={'Close': 'RealPricePut5300'})\n",
    "option_data_df2 = option_data_df2.rename(columns={'Close': 'RealPricePut5700'})\n"
   ]
  },
  {
   "cell_type": "code",
   "execution_count": null,
   "metadata": {},
   "outputs": [],
   "source": [
    "# Reset the index\n",
    "option_data_df1 = option_data_df1.reset_index()\n",
    "\n",
    "# Ensure 'Date' column is in datetime format\n",
    "option_data_df1['Date'] = pd.to_datetime(option_data_df1['Date'])\n",
    "\n",
    "# Set 'Date' as the new index\n",
    "option_data_df1 = option_data_df1.set_index('Date')\n",
    "\n",
    "option_data_df2 = option_data_df2.reset_index()\n",
    "\n",
    "# Ensure 'Date' column is in datetime format\n",
    "option_data_df2['Date'] = pd.to_datetime(option_data_df2['Date'])\n",
    "\n",
    "# Set 'Date' as the new index\n",
    "option_data_df2 = option_data_df2.set_index('Date')\n",
    "\n",
    "# Format the Date index to 'YYYY-MM-DD'\n",
    "option_data_df2.index = option_data_df2.index.strftime('%Y-%m-%d')\n"
   ]
  },
  {
   "cell_type": "code",
   "execution_count": 167,
   "metadata": {},
   "outputs": [
    {
     "data": {
      "text/plain": [
       "Index(['Date', 'PricePut5700', 'RealPricePut5700', 'DeltaPut5700',\n",
       "       'PricePut5300', 'RealPricePut5300', 'DeltaPut5300'],\n",
       "      dtype='object')"
      ]
     },
     "execution_count": 167,
     "metadata": {},
     "output_type": "execute_result"
    }
   ],
   "source": [
    "results.columns"
   ]
  },
  {
   "cell_type": "code",
   "execution_count": null,
   "metadata": {},
   "outputs": [],
   "source": [
    "option_data_df2.columns = option_data_df2.columns.droplevel('Ticker')\n",
    "option_data_df2.columns = option_data_df2.columns.rename(None)\n",
    "\n",
    "option_data_df1.columns = option_data_df1.columns.droplevel('Ticker')\n",
    "option_data_df1.columns = option_data_df1.columns.rename(None)"
   ]
  },
  {
   "cell_type": "code",
   "execution_count": 168,
   "metadata": {},
   "outputs": [],
   "source": [
    "results['Date'] = pd.to_datetime(results['Date'])\n",
    "\n",
    "# Set the 'date' column as the index\n",
    "results = results.set_index('Date')\n",
    "# Change the index format to 'yyyy-mm-dd'\n",
    "results.index = results.index.strftime('%Y-%m-%d')\n",
    "results.update(option_data_df1, overwrite=True)\n",
    "results.update(option_data_df2, overwrite=True)"
   ]
  },
  {
   "cell_type": "code",
   "execution_count": 165,
   "metadata": {},
   "outputs": [
    {
     "data": {
      "text/html": [
       "<div>\n",
       "<style scoped>\n",
       "    .dataframe tbody tr th:only-of-type {\n",
       "        vertical-align: middle;\n",
       "    }\n",
       "\n",
       "    .dataframe tbody tr th {\n",
       "        vertical-align: top;\n",
       "    }\n",
       "\n",
       "    .dataframe thead th {\n",
       "        text-align: right;\n",
       "    }\n",
       "</style>\n",
       "<table border=\"1\" class=\"dataframe\">\n",
       "  <thead>\n",
       "    <tr style=\"text-align: right;\">\n",
       "      <th></th>\n",
       "      <th>Adj Close</th>\n",
       "      <th>RealPricePut5300</th>\n",
       "      <th>High</th>\n",
       "      <th>Low</th>\n",
       "      <th>Open</th>\n",
       "      <th>Volume</th>\n",
       "    </tr>\n",
       "    <tr>\n",
       "      <th>Date</th>\n",
       "      <th></th>\n",
       "      <th></th>\n",
       "      <th></th>\n",
       "      <th></th>\n",
       "      <th></th>\n",
       "      <th></th>\n",
       "    </tr>\n",
       "  </thead>\n",
       "  <tbody>\n",
       "    <tr>\n",
       "      <th>2024-11-04 00:00:00+00:00</th>\n",
       "      <td>208.210007</td>\n",
       "      <td>208.210007</td>\n",
       "      <td>208.699997</td>\n",
       "      <td>208.210007</td>\n",
       "      <td>208.699997</td>\n",
       "      <td>52</td>\n",
       "    </tr>\n",
       "    <tr>\n",
       "      <th>2024-11-06 00:00:00+00:00</th>\n",
       "      <td>158.399994</td>\n",
       "      <td>158.399994</td>\n",
       "      <td>160.710007</td>\n",
       "      <td>158.399994</td>\n",
       "      <td>160.710007</td>\n",
       "      <td>27</td>\n",
       "    </tr>\n",
       "    <tr>\n",
       "      <th>2024-11-07 00:00:00+00:00</th>\n",
       "      <td>150.750000</td>\n",
       "      <td>150.750000</td>\n",
       "      <td>150.750000</td>\n",
       "      <td>150.750000</td>\n",
       "      <td>150.750000</td>\n",
       "      <td>1</td>\n",
       "    </tr>\n",
       "    <tr>\n",
       "      <th>2024-11-08 00:00:00+00:00</th>\n",
       "      <td>145.199997</td>\n",
       "      <td>145.199997</td>\n",
       "      <td>145.199997</td>\n",
       "      <td>145.199997</td>\n",
       "      <td>145.199997</td>\n",
       "      <td>1</td>\n",
       "    </tr>\n",
       "    <tr>\n",
       "      <th>2024-11-15 00:00:00+00:00</th>\n",
       "      <td>162.199997</td>\n",
       "      <td>162.199997</td>\n",
       "      <td>162.199997</td>\n",
       "      <td>161.399994</td>\n",
       "      <td>161.399994</td>\n",
       "      <td>3</td>\n",
       "    </tr>\n",
       "  </tbody>\n",
       "</table>\n",
       "</div>"
      ],
      "text/plain": [
       "                            Adj Close  RealPricePut5300        High  \\\n",
       "Date                                                                  \n",
       "2024-11-04 00:00:00+00:00  208.210007        208.210007  208.699997   \n",
       "2024-11-06 00:00:00+00:00  158.399994        158.399994  160.710007   \n",
       "2024-11-07 00:00:00+00:00  150.750000        150.750000  150.750000   \n",
       "2024-11-08 00:00:00+00:00  145.199997        145.199997  145.199997   \n",
       "2024-11-15 00:00:00+00:00  162.199997        162.199997  162.199997   \n",
       "\n",
       "                                  Low        Open  Volume  \n",
       "Date                                                       \n",
       "2024-11-04 00:00:00+00:00  208.210007  208.699997      52  \n",
       "2024-11-06 00:00:00+00:00  158.399994  160.710007      27  \n",
       "2024-11-07 00:00:00+00:00  150.750000  150.750000       1  \n",
       "2024-11-08 00:00:00+00:00  145.199997  145.199997       1  \n",
       "2024-11-15 00:00:00+00:00  161.399994  161.399994       3  "
      ]
     },
     "execution_count": 165,
     "metadata": {},
     "output_type": "execute_result"
    }
   ],
   "source": [
    "option_data_df1"
   ]
  },
  {
   "cell_type": "code",
   "execution_count": 169,
   "metadata": {},
   "outputs": [
    {
     "data": {
      "application/vnd.plotly.v1+json": {
       "config": {
        "plotlyServerURL": "https://plot.ly"
       },
       "data": [
        {
         "hovertemplate": "variable=PricePut5700<br>Date=%{x}<br>Option Price=%{y}<extra></extra>",
         "legendgroup": "PricePut5700",
         "line": {
          "color": "#636efa",
          "dash": "solid"
         },
         "marker": {
          "symbol": "circle"
         },
         "mode": "lines",
         "name": "PricePut5700",
         "orientation": "v",
         "showlegend": true,
         "type": "scatter",
         "x": [
          "2024-11-02T00:00:00",
          "2024-11-03T00:00:00",
          "2024-11-04T00:00:00",
          "2024-11-05T00:00:00",
          "2024-11-06T00:00:00",
          "2024-11-07T00:00:00",
          "2024-11-08T00:00:00",
          "2024-11-09T00:00:00",
          "2024-11-10T00:00:00",
          "2024-11-11T00:00:00",
          "2024-11-12T00:00:00",
          "2024-11-13T00:00:00",
          "2024-11-14T00:00:00",
          "2024-11-15T00:00:00",
          "2024-11-16T00:00:00",
          "2024-11-17T00:00:00",
          "2024-11-18T00:00:00",
          "2024-11-19T00:00:00",
          "2024-11-20T00:00:00",
          "2024-11-21T00:00:00",
          "2024-11-22T00:00:00",
          "2024-11-23T00:00:00",
          "2024-11-24T00:00:00",
          "2024-11-25T00:00:00",
          "2024-11-26T00:00:00"
         ],
         "xaxis": "x",
         "y": [
          66.33,
          66.13,
          65.92,
          65.72,
          65.52,
          65.31,
          65.1,
          64.9,
          64.69,
          64.48,
          64.27,
          64.06,
          63.85,
          63.64,
          63.43,
          63.22,
          63,
          62.79,
          62.57,
          62.36,
          62.14,
          61.92,
          61.7,
          61.48,
          61.26
         ],
         "yaxis": "y"
        },
        {
         "hovertemplate": "variable=RealPricePut5700<br>Date=%{x}<br>Option Price=%{y}<extra></extra>",
         "legendgroup": "RealPricePut5700",
         "line": {
          "color": "#EF553B",
          "dash": "solid"
         },
         "marker": {
          "symbol": "circle"
         },
         "mode": "lines",
         "name": "RealPricePut5700",
         "orientation": "v",
         "showlegend": true,
         "type": "scatter",
         "x": [
          "2024-11-02T00:00:00",
          "2024-11-03T00:00:00",
          "2024-11-04T00:00:00",
          "2024-11-05T00:00:00",
          "2024-11-06T00:00:00",
          "2024-11-07T00:00:00",
          "2024-11-08T00:00:00",
          "2024-11-09T00:00:00",
          "2024-11-10T00:00:00",
          "2024-11-11T00:00:00",
          "2024-11-12T00:00:00",
          "2024-11-13T00:00:00",
          "2024-11-14T00:00:00",
          "2024-11-15T00:00:00",
          "2024-11-16T00:00:00",
          "2024-11-17T00:00:00",
          "2024-11-18T00:00:00",
          "2024-11-19T00:00:00",
          "2024-11-20T00:00:00",
          "2024-11-21T00:00:00",
          "2024-11-22T00:00:00",
          "2024-11-23T00:00:00",
          "2024-11-24T00:00:00",
          "2024-11-25T00:00:00",
          "2024-11-26T00:00:00"
         ],
         "xaxis": "x",
         "y": [
          120.8,
          120.8,
          223.8000030517578,
          198.27999877929688,
          151.50999450683594,
          136.0399932861328,
          130.8699951171875,
          120.8,
          120.8,
          130.69000244140625,
          133.10000610351562,
          130.1300048828125,
          138.42999267578125,
          163.83999633789062,
          120.8,
          120.8,
          152.36000061035156,
          146.39999389648438,
          160.3000030517578,
          142.36000061035156,
          137.52999877929688,
          120.8,
          120.8,
          126.08000183105469,
          120.8
         ],
         "yaxis": "y"
        },
        {
         "hovertemplate": "variable=PricePut5300<br>Date=%{x}<br>Option Price=%{y}<extra></extra>",
         "legendgroup": "PricePut5300",
         "line": {
          "color": "#00cc96",
          "dash": "solid"
         },
         "marker": {
          "symbol": "circle"
         },
         "mode": "lines",
         "name": "PricePut5300",
         "orientation": "v",
         "showlegend": true,
         "type": "scatter",
         "x": [
          "2024-11-02T00:00:00",
          "2024-11-03T00:00:00",
          "2024-11-04T00:00:00",
          "2024-11-05T00:00:00",
          "2024-11-06T00:00:00",
          "2024-11-07T00:00:00",
          "2024-11-08T00:00:00",
          "2024-11-09T00:00:00",
          "2024-11-10T00:00:00",
          "2024-11-11T00:00:00",
          "2024-11-12T00:00:00",
          "2024-11-13T00:00:00",
          "2024-11-14T00:00:00",
          "2024-11-15T00:00:00",
          "2024-11-16T00:00:00",
          "2024-11-17T00:00:00",
          "2024-11-18T00:00:00",
          "2024-11-19T00:00:00",
          "2024-11-20T00:00:00",
          "2024-11-21T00:00:00",
          "2024-11-22T00:00:00",
          "2024-11-23T00:00:00",
          "2024-11-24T00:00:00",
          "2024-11-25T00:00:00",
          "2024-11-26T00:00:00"
         ],
         "xaxis": "x",
         "y": [
          32.67,
          32.59,
          32.52,
          32.44,
          32.36,
          32.28,
          32.21,
          32.13,
          32.05,
          31.97,
          31.89,
          31.82,
          31.74,
          31.66,
          31.58,
          31.5,
          31.42,
          31.34,
          31.26,
          31.18,
          31.1,
          31.02,
          30.94,
          30.86,
          30.78
         ],
         "yaxis": "y"
        },
        {
         "hovertemplate": "variable=RealPricePut5300<br>Date=%{x}<br>Option Price=%{y}<extra></extra>",
         "legendgroup": "RealPricePut5300",
         "line": {
          "color": "#ab63fa",
          "dash": "solid"
         },
         "marker": {
          "symbol": "circle"
         },
         "mode": "lines",
         "name": "RealPricePut5300",
         "orientation": "v",
         "showlegend": true,
         "type": "scatter",
         "x": [
          "2024-11-02T00:00:00",
          "2024-11-03T00:00:00",
          "2024-11-04T00:00:00",
          "2024-11-05T00:00:00",
          "2024-11-06T00:00:00",
          "2024-11-07T00:00:00",
          "2024-11-08T00:00:00",
          "2024-11-09T00:00:00",
          "2024-11-10T00:00:00",
          "2024-11-11T00:00:00",
          "2024-11-12T00:00:00",
          "2024-11-13T00:00:00",
          "2024-11-14T00:00:00",
          "2024-11-15T00:00:00",
          "2024-11-16T00:00:00",
          "2024-11-17T00:00:00",
          "2024-11-18T00:00:00",
          "2024-11-19T00:00:00",
          "2024-11-20T00:00:00",
          "2024-11-21T00:00:00",
          "2024-11-22T00:00:00",
          "2024-11-23T00:00:00",
          "2024-11-24T00:00:00",
          "2024-11-25T00:00:00",
          "2024-11-26T00:00:00"
         ],
         "xaxis": "x",
         "y": [
          162.2,
          162.2,
          208.2100067138672,
          162.2,
          158.39999389648438,
          150.75,
          145.1999969482422,
          162.2,
          162.2,
          162.2,
          162.2,
          162.2,
          162.2,
          162.1999969482422,
          162.2,
          162.2,
          162.2,
          162.2,
          162.2,
          162.2,
          162.2,
          162.2,
          162.2,
          162.2,
          162.2
         ],
         "yaxis": "y"
        }
       ],
       "layout": {
        "legend": {
         "title": {
          "text": "Options"
         },
         "tracegroupgap": 0
        },
        "template": {
         "data": {
          "bar": [
           {
            "error_x": {
             "color": "#2a3f5f"
            },
            "error_y": {
             "color": "#2a3f5f"
            },
            "marker": {
             "line": {
              "color": "#E5ECF6",
              "width": 0.5
             },
             "pattern": {
              "fillmode": "overlay",
              "size": 10,
              "solidity": 0.2
             }
            },
            "type": "bar"
           }
          ],
          "barpolar": [
           {
            "marker": {
             "line": {
              "color": "#E5ECF6",
              "width": 0.5
             },
             "pattern": {
              "fillmode": "overlay",
              "size": 10,
              "solidity": 0.2
             }
            },
            "type": "barpolar"
           }
          ],
          "carpet": [
           {
            "aaxis": {
             "endlinecolor": "#2a3f5f",
             "gridcolor": "white",
             "linecolor": "white",
             "minorgridcolor": "white",
             "startlinecolor": "#2a3f5f"
            },
            "baxis": {
             "endlinecolor": "#2a3f5f",
             "gridcolor": "white",
             "linecolor": "white",
             "minorgridcolor": "white",
             "startlinecolor": "#2a3f5f"
            },
            "type": "carpet"
           }
          ],
          "choropleth": [
           {
            "colorbar": {
             "outlinewidth": 0,
             "ticks": ""
            },
            "type": "choropleth"
           }
          ],
          "contour": [
           {
            "colorbar": {
             "outlinewidth": 0,
             "ticks": ""
            },
            "colorscale": [
             [
              0,
              "#0d0887"
             ],
             [
              0.1111111111111111,
              "#46039f"
             ],
             [
              0.2222222222222222,
              "#7201a8"
             ],
             [
              0.3333333333333333,
              "#9c179e"
             ],
             [
              0.4444444444444444,
              "#bd3786"
             ],
             [
              0.5555555555555556,
              "#d8576b"
             ],
             [
              0.6666666666666666,
              "#ed7953"
             ],
             [
              0.7777777777777778,
              "#fb9f3a"
             ],
             [
              0.8888888888888888,
              "#fdca26"
             ],
             [
              1,
              "#f0f921"
             ]
            ],
            "type": "contour"
           }
          ],
          "contourcarpet": [
           {
            "colorbar": {
             "outlinewidth": 0,
             "ticks": ""
            },
            "type": "contourcarpet"
           }
          ],
          "heatmap": [
           {
            "colorbar": {
             "outlinewidth": 0,
             "ticks": ""
            },
            "colorscale": [
             [
              0,
              "#0d0887"
             ],
             [
              0.1111111111111111,
              "#46039f"
             ],
             [
              0.2222222222222222,
              "#7201a8"
             ],
             [
              0.3333333333333333,
              "#9c179e"
             ],
             [
              0.4444444444444444,
              "#bd3786"
             ],
             [
              0.5555555555555556,
              "#d8576b"
             ],
             [
              0.6666666666666666,
              "#ed7953"
             ],
             [
              0.7777777777777778,
              "#fb9f3a"
             ],
             [
              0.8888888888888888,
              "#fdca26"
             ],
             [
              1,
              "#f0f921"
             ]
            ],
            "type": "heatmap"
           }
          ],
          "heatmapgl": [
           {
            "colorbar": {
             "outlinewidth": 0,
             "ticks": ""
            },
            "colorscale": [
             [
              0,
              "#0d0887"
             ],
             [
              0.1111111111111111,
              "#46039f"
             ],
             [
              0.2222222222222222,
              "#7201a8"
             ],
             [
              0.3333333333333333,
              "#9c179e"
             ],
             [
              0.4444444444444444,
              "#bd3786"
             ],
             [
              0.5555555555555556,
              "#d8576b"
             ],
             [
              0.6666666666666666,
              "#ed7953"
             ],
             [
              0.7777777777777778,
              "#fb9f3a"
             ],
             [
              0.8888888888888888,
              "#fdca26"
             ],
             [
              1,
              "#f0f921"
             ]
            ],
            "type": "heatmapgl"
           }
          ],
          "histogram": [
           {
            "marker": {
             "pattern": {
              "fillmode": "overlay",
              "size": 10,
              "solidity": 0.2
             }
            },
            "type": "histogram"
           }
          ],
          "histogram2d": [
           {
            "colorbar": {
             "outlinewidth": 0,
             "ticks": ""
            },
            "colorscale": [
             [
              0,
              "#0d0887"
             ],
             [
              0.1111111111111111,
              "#46039f"
             ],
             [
              0.2222222222222222,
              "#7201a8"
             ],
             [
              0.3333333333333333,
              "#9c179e"
             ],
             [
              0.4444444444444444,
              "#bd3786"
             ],
             [
              0.5555555555555556,
              "#d8576b"
             ],
             [
              0.6666666666666666,
              "#ed7953"
             ],
             [
              0.7777777777777778,
              "#fb9f3a"
             ],
             [
              0.8888888888888888,
              "#fdca26"
             ],
             [
              1,
              "#f0f921"
             ]
            ],
            "type": "histogram2d"
           }
          ],
          "histogram2dcontour": [
           {
            "colorbar": {
             "outlinewidth": 0,
             "ticks": ""
            },
            "colorscale": [
             [
              0,
              "#0d0887"
             ],
             [
              0.1111111111111111,
              "#46039f"
             ],
             [
              0.2222222222222222,
              "#7201a8"
             ],
             [
              0.3333333333333333,
              "#9c179e"
             ],
             [
              0.4444444444444444,
              "#bd3786"
             ],
             [
              0.5555555555555556,
              "#d8576b"
             ],
             [
              0.6666666666666666,
              "#ed7953"
             ],
             [
              0.7777777777777778,
              "#fb9f3a"
             ],
             [
              0.8888888888888888,
              "#fdca26"
             ],
             [
              1,
              "#f0f921"
             ]
            ],
            "type": "histogram2dcontour"
           }
          ],
          "mesh3d": [
           {
            "colorbar": {
             "outlinewidth": 0,
             "ticks": ""
            },
            "type": "mesh3d"
           }
          ],
          "parcoords": [
           {
            "line": {
             "colorbar": {
              "outlinewidth": 0,
              "ticks": ""
             }
            },
            "type": "parcoords"
           }
          ],
          "pie": [
           {
            "automargin": true,
            "type": "pie"
           }
          ],
          "scatter": [
           {
            "fillpattern": {
             "fillmode": "overlay",
             "size": 10,
             "solidity": 0.2
            },
            "type": "scatter"
           }
          ],
          "scatter3d": [
           {
            "line": {
             "colorbar": {
              "outlinewidth": 0,
              "ticks": ""
             }
            },
            "marker": {
             "colorbar": {
              "outlinewidth": 0,
              "ticks": ""
             }
            },
            "type": "scatter3d"
           }
          ],
          "scattercarpet": [
           {
            "marker": {
             "colorbar": {
              "outlinewidth": 0,
              "ticks": ""
             }
            },
            "type": "scattercarpet"
           }
          ],
          "scattergeo": [
           {
            "marker": {
             "colorbar": {
              "outlinewidth": 0,
              "ticks": ""
             }
            },
            "type": "scattergeo"
           }
          ],
          "scattergl": [
           {
            "marker": {
             "colorbar": {
              "outlinewidth": 0,
              "ticks": ""
             }
            },
            "type": "scattergl"
           }
          ],
          "scattermapbox": [
           {
            "marker": {
             "colorbar": {
              "outlinewidth": 0,
              "ticks": ""
             }
            },
            "type": "scattermapbox"
           }
          ],
          "scatterpolar": [
           {
            "marker": {
             "colorbar": {
              "outlinewidth": 0,
              "ticks": ""
             }
            },
            "type": "scatterpolar"
           }
          ],
          "scatterpolargl": [
           {
            "marker": {
             "colorbar": {
              "outlinewidth": 0,
              "ticks": ""
             }
            },
            "type": "scatterpolargl"
           }
          ],
          "scatterternary": [
           {
            "marker": {
             "colorbar": {
              "outlinewidth": 0,
              "ticks": ""
             }
            },
            "type": "scatterternary"
           }
          ],
          "surface": [
           {
            "colorbar": {
             "outlinewidth": 0,
             "ticks": ""
            },
            "colorscale": [
             [
              0,
              "#0d0887"
             ],
             [
              0.1111111111111111,
              "#46039f"
             ],
             [
              0.2222222222222222,
              "#7201a8"
             ],
             [
              0.3333333333333333,
              "#9c179e"
             ],
             [
              0.4444444444444444,
              "#bd3786"
             ],
             [
              0.5555555555555556,
              "#d8576b"
             ],
             [
              0.6666666666666666,
              "#ed7953"
             ],
             [
              0.7777777777777778,
              "#fb9f3a"
             ],
             [
              0.8888888888888888,
              "#fdca26"
             ],
             [
              1,
              "#f0f921"
             ]
            ],
            "type": "surface"
           }
          ],
          "table": [
           {
            "cells": {
             "fill": {
              "color": "#EBF0F8"
             },
             "line": {
              "color": "white"
             }
            },
            "header": {
             "fill": {
              "color": "#C8D4E3"
             },
             "line": {
              "color": "white"
             }
            },
            "type": "table"
           }
          ]
         },
         "layout": {
          "annotationdefaults": {
           "arrowcolor": "#2a3f5f",
           "arrowhead": 0,
           "arrowwidth": 1
          },
          "autotypenumbers": "strict",
          "coloraxis": {
           "colorbar": {
            "outlinewidth": 0,
            "ticks": ""
           }
          },
          "colorscale": {
           "diverging": [
            [
             0,
             "#8e0152"
            ],
            [
             0.1,
             "#c51b7d"
            ],
            [
             0.2,
             "#de77ae"
            ],
            [
             0.3,
             "#f1b6da"
            ],
            [
             0.4,
             "#fde0ef"
            ],
            [
             0.5,
             "#f7f7f7"
            ],
            [
             0.6,
             "#e6f5d0"
            ],
            [
             0.7,
             "#b8e186"
            ],
            [
             0.8,
             "#7fbc41"
            ],
            [
             0.9,
             "#4d9221"
            ],
            [
             1,
             "#276419"
            ]
           ],
           "sequential": [
            [
             0,
             "#0d0887"
            ],
            [
             0.1111111111111111,
             "#46039f"
            ],
            [
             0.2222222222222222,
             "#7201a8"
            ],
            [
             0.3333333333333333,
             "#9c179e"
            ],
            [
             0.4444444444444444,
             "#bd3786"
            ],
            [
             0.5555555555555556,
             "#d8576b"
            ],
            [
             0.6666666666666666,
             "#ed7953"
            ],
            [
             0.7777777777777778,
             "#fb9f3a"
            ],
            [
             0.8888888888888888,
             "#fdca26"
            ],
            [
             1,
             "#f0f921"
            ]
           ],
           "sequentialminus": [
            [
             0,
             "#0d0887"
            ],
            [
             0.1111111111111111,
             "#46039f"
            ],
            [
             0.2222222222222222,
             "#7201a8"
            ],
            [
             0.3333333333333333,
             "#9c179e"
            ],
            [
             0.4444444444444444,
             "#bd3786"
            ],
            [
             0.5555555555555556,
             "#d8576b"
            ],
            [
             0.6666666666666666,
             "#ed7953"
            ],
            [
             0.7777777777777778,
             "#fb9f3a"
            ],
            [
             0.8888888888888888,
             "#fdca26"
            ],
            [
             1,
             "#f0f921"
            ]
           ]
          },
          "colorway": [
           "#636efa",
           "#EF553B",
           "#00cc96",
           "#ab63fa",
           "#FFA15A",
           "#19d3f3",
           "#FF6692",
           "#B6E880",
           "#FF97FF",
           "#FECB52"
          ],
          "font": {
           "color": "#2a3f5f"
          },
          "geo": {
           "bgcolor": "white",
           "lakecolor": "white",
           "landcolor": "#E5ECF6",
           "showlakes": true,
           "showland": true,
           "subunitcolor": "white"
          },
          "hoverlabel": {
           "align": "left"
          },
          "hovermode": "closest",
          "mapbox": {
           "style": "light"
          },
          "paper_bgcolor": "white",
          "plot_bgcolor": "#E5ECF6",
          "polar": {
           "angularaxis": {
            "gridcolor": "white",
            "linecolor": "white",
            "ticks": ""
           },
           "bgcolor": "#E5ECF6",
           "radialaxis": {
            "gridcolor": "white",
            "linecolor": "white",
            "ticks": ""
           }
          },
          "scene": {
           "xaxis": {
            "backgroundcolor": "#E5ECF6",
            "gridcolor": "white",
            "gridwidth": 2,
            "linecolor": "white",
            "showbackground": true,
            "ticks": "",
            "zerolinecolor": "white"
           },
           "yaxis": {
            "backgroundcolor": "#E5ECF6",
            "gridcolor": "white",
            "gridwidth": 2,
            "linecolor": "white",
            "showbackground": true,
            "ticks": "",
            "zerolinecolor": "white"
           },
           "zaxis": {
            "backgroundcolor": "#E5ECF6",
            "gridcolor": "white",
            "gridwidth": 2,
            "linecolor": "white",
            "showbackground": true,
            "ticks": "",
            "zerolinecolor": "white"
           }
          },
          "shapedefaults": {
           "line": {
            "color": "#2a3f5f"
           }
          },
          "ternary": {
           "aaxis": {
            "gridcolor": "white",
            "linecolor": "white",
            "ticks": ""
           },
           "baxis": {
            "gridcolor": "white",
            "linecolor": "white",
            "ticks": ""
           },
           "bgcolor": "#E5ECF6",
           "caxis": {
            "gridcolor": "white",
            "linecolor": "white",
            "ticks": ""
           }
          },
          "title": {
           "x": 0.05
          },
          "xaxis": {
           "automargin": true,
           "gridcolor": "white",
           "linecolor": "white",
           "ticks": "",
           "title": {
            "standoff": 15
           },
           "zerolinecolor": "white",
           "zerolinewidth": 2
          },
          "yaxis": {
           "automargin": true,
           "gridcolor": "white",
           "linecolor": "white",
           "ticks": "",
           "title": {
            "standoff": 15
           },
           "zerolinecolor": "white",
           "zerolinewidth": 2
          }
         }
        },
        "title": {
         "text": "SPXW Option Prices"
        },
        "xaxis": {
         "anchor": "y",
         "domain": [
          0,
          1
         ],
         "rangeslider": {
          "visible": true
         },
         "title": {
          "text": "Date"
         },
         "type": "date"
        },
        "yaxis": {
         "anchor": "x",
         "domain": [
          0,
          1
         ],
         "title": {
          "text": "Price"
         }
        }
       }
      }
     },
     "metadata": {},
     "output_type": "display_data"
    }
   ],
   "source": [
    "import plotly.express as px\n",
    "import pandas as pd\n",
    "\n",
    "# Assuming 'results' is your DataFrame containing the data\n",
    "# Make sure the index is set as 'Date' and it is in datetime format\n",
    "results.index = pd.to_datetime(results.index)\n",
    "\n",
    "# Create a Plotly figure excluding the Delta columns\n",
    "fig = px.line(results, \n",
    "              x=results.index,  # Use the DataFrame index as the x-axis\n",
    "              y=['PricePut5700', 'RealPricePut5700', \n",
    "                 'PricePut5300', 'RealPricePut5300'],\n",
    "              labels={'value': 'Option Price', 'index': 'Date'},\n",
    "              title=\"Option Prices Over Time\")\n",
    "\n",
    "# Add a date range slider\n",
    "fig.update_layout(\n",
    "    xaxis=dict(\n",
    "        rangeslider=dict(visible=True),  # Enable range slider\n",
    "        type='date'  # Make sure the x-axis is a date type\n",
    "    ),\n",
    "    xaxis_rangeslider_visible=True,  # Make the range slider visible\n",
    "    title=\"SPXW Option Prices\",\n",
    "    xaxis_title=\"Date\",\n",
    "    yaxis_title=\"Price\",\n",
    "    legend_title=\"Options\"\n",
    ")\n",
    "\n",
    "# Show the figure\n",
    "fig.show()\n"
   ]
  },
  {
   "cell_type": "code",
   "execution_count": 155,
   "metadata": {},
   "outputs": [
    {
     "data": {
      "application/vnd.plotly.v1+json": {
       "config": {
        "plotlyServerURL": "https://plot.ly"
       },
       "data": [
        {
         "hovertemplate": "variable=PricePut5700<br>Date=%{x}<br>Option Price=%{y}<extra></extra>",
         "legendgroup": "PricePut5700",
         "line": {
          "color": "#636efa",
          "dash": "solid"
         },
         "marker": {
          "symbol": "circle"
         },
         "mode": "lines",
         "name": "PricePut5700",
         "orientation": "v",
         "showlegend": true,
         "type": "scatter",
         "x": [
          "2024-11-02T00:00:00",
          "2024-11-03T00:00:00",
          "2024-11-04T00:00:00",
          "2024-11-05T00:00:00",
          "2024-11-06T00:00:00",
          "2024-11-07T00:00:00",
          "2024-11-08T00:00:00",
          "2024-11-09T00:00:00",
          "2024-11-10T00:00:00",
          "2024-11-11T00:00:00",
          "2024-11-12T00:00:00",
          "2024-11-13T00:00:00",
          "2024-11-14T00:00:00",
          "2024-11-15T00:00:00",
          "2024-11-16T00:00:00",
          "2024-11-17T00:00:00",
          "2024-11-18T00:00:00",
          "2024-11-19T00:00:00",
          "2024-11-20T00:00:00",
          "2024-11-21T00:00:00",
          "2024-11-22T00:00:00"
         ],
         "xaxis": "x",
         "y": [
          72.23,
          72.03,
          71.82,
          71.62,
          71.41,
          71.2,
          70.99,
          70.78,
          70.57,
          70.36,
          70.15,
          69.94,
          69.72,
          69.51,
          69.29,
          69.08,
          68.86,
          68.64,
          68.42,
          68.2,
          67.98
         ],
         "yaxis": "y"
        },
        {
         "hovertemplate": "variable=RealPricePut5700<br>Date=%{x}<br>Option Price=%{y}<extra></extra>",
         "legendgroup": "RealPricePut5700",
         "line": {
          "color": "#EF553B",
          "dash": "solid"
         },
         "marker": {
          "symbol": "circle"
         },
         "mode": "lines",
         "name": "RealPricePut5700",
         "orientation": "v",
         "showlegend": true,
         "type": "scatter",
         "x": [
          "2024-11-02T00:00:00",
          "2024-11-03T00:00:00",
          "2024-11-04T00:00:00",
          "2024-11-05T00:00:00",
          "2024-11-06T00:00:00",
          "2024-11-07T00:00:00",
          "2024-11-08T00:00:00",
          "2024-11-09T00:00:00",
          "2024-11-10T00:00:00",
          "2024-11-11T00:00:00",
          "2024-11-12T00:00:00",
          "2024-11-13T00:00:00",
          "2024-11-14T00:00:00",
          "2024-11-15T00:00:00",
          "2024-11-16T00:00:00",
          "2024-11-17T00:00:00",
          "2024-11-18T00:00:00",
          "2024-11-19T00:00:00",
          "2024-11-20T00:00:00",
          "2024-11-21T00:00:00",
          "2024-11-22T00:00:00"
         ],
         "xaxis": "x",
         "y": [
          137.53,
          137.53,
          223.8000030517578,
          198.27999877929688,
          151.50999450683594,
          136.0399932861328,
          130.8699951171875,
          137.53,
          137.53,
          130.69000244140625,
          133.10000610351562,
          130.1300048828125,
          138.42999267578125,
          163.83999633789062,
          137.53,
          137.53,
          152.36000061035156,
          146.39999389648438,
          160.3000030517578,
          142.36000061035156,
          137.53
         ],
         "yaxis": "y"
        },
        {
         "hovertemplate": "variable=PricePut5300<br>Date=%{x}<br>Option Price=%{y}<extra></extra>",
         "legendgroup": "PricePut5300",
         "line": {
          "color": "#00cc96",
          "dash": "solid"
         },
         "marker": {
          "symbol": "circle"
         },
         "mode": "lines",
         "name": "PricePut5300",
         "orientation": "v",
         "showlegend": true,
         "type": "scatter",
         "x": [
          "2024-11-02T00:00:00",
          "2024-11-03T00:00:00",
          "2024-11-04T00:00:00",
          "2024-11-05T00:00:00",
          "2024-11-06T00:00:00",
          "2024-11-07T00:00:00",
          "2024-11-08T00:00:00",
          "2024-11-09T00:00:00",
          "2024-11-10T00:00:00",
          "2024-11-11T00:00:00",
          "2024-11-12T00:00:00",
          "2024-11-13T00:00:00",
          "2024-11-14T00:00:00",
          "2024-11-15T00:00:00",
          "2024-11-16T00:00:00",
          "2024-11-17T00:00:00",
          "2024-11-18T00:00:00",
          "2024-11-19T00:00:00",
          "2024-11-20T00:00:00",
          "2024-11-21T00:00:00",
          "2024-11-22T00:00:00"
         ],
         "xaxis": "x",
         "y": [
          35.17,
          35.09,
          35.01,
          34.93,
          34.85,
          34.77,
          34.69,
          34.61,
          34.53,
          34.45,
          34.37,
          34.29,
          34.21,
          34.13,
          34.05,
          33.97,
          33.88,
          33.8,
          33.72,
          33.64,
          33.56
         ],
         "yaxis": "y"
        },
        {
         "hovertemplate": "variable=RealPricePut5300<br>Date=%{x}<br>Option Price=%{y}<extra></extra>",
         "legendgroup": "RealPricePut5300",
         "line": {
          "color": "#ab63fa",
          "dash": "solid"
         },
         "marker": {
          "symbol": "circle"
         },
         "mode": "lines",
         "name": "RealPricePut5300",
         "orientation": "v",
         "showlegend": true,
         "type": "scatter",
         "x": [
          "2024-11-02T00:00:00",
          "2024-11-03T00:00:00",
          "2024-11-04T00:00:00",
          "2024-11-05T00:00:00",
          "2024-11-06T00:00:00",
          "2024-11-07T00:00:00",
          "2024-11-08T00:00:00",
          "2024-11-09T00:00:00",
          "2024-11-10T00:00:00",
          "2024-11-11T00:00:00",
          "2024-11-12T00:00:00",
          "2024-11-13T00:00:00",
          "2024-11-14T00:00:00",
          "2024-11-15T00:00:00",
          "2024-11-16T00:00:00",
          "2024-11-17T00:00:00",
          "2024-11-18T00:00:00",
          "2024-11-19T00:00:00",
          "2024-11-20T00:00:00",
          "2024-11-21T00:00:00",
          "2024-11-22T00:00:00"
         ],
         "xaxis": "x",
         "y": [
          162.2,
          162.2,
          208.2100067138672,
          162.2,
          158.39999389648438,
          150.75,
          145.1999969482422,
          162.2,
          162.2,
          162.2,
          162.2,
          162.2,
          162.2,
          162.1999969482422,
          162.2,
          162.2,
          162.2,
          162.2,
          162.2,
          162.2,
          162.2
         ],
         "yaxis": "y"
        }
       ],
       "layout": {
        "legend": {
         "title": {
          "text": "variable"
         },
         "tracegroupgap": 0
        },
        "plot_bgcolor": "rgba(0,0,0,0)",
        "template": {
         "data": {
          "bar": [
           {
            "error_x": {
             "color": "#2a3f5f"
            },
            "error_y": {
             "color": "#2a3f5f"
            },
            "marker": {
             "line": {
              "color": "#E5ECF6",
              "width": 0.5
             },
             "pattern": {
              "fillmode": "overlay",
              "size": 10,
              "solidity": 0.2
             }
            },
            "type": "bar"
           }
          ],
          "barpolar": [
           {
            "marker": {
             "line": {
              "color": "#E5ECF6",
              "width": 0.5
             },
             "pattern": {
              "fillmode": "overlay",
              "size": 10,
              "solidity": 0.2
             }
            },
            "type": "barpolar"
           }
          ],
          "carpet": [
           {
            "aaxis": {
             "endlinecolor": "#2a3f5f",
             "gridcolor": "white",
             "linecolor": "white",
             "minorgridcolor": "white",
             "startlinecolor": "#2a3f5f"
            },
            "baxis": {
             "endlinecolor": "#2a3f5f",
             "gridcolor": "white",
             "linecolor": "white",
             "minorgridcolor": "white",
             "startlinecolor": "#2a3f5f"
            },
            "type": "carpet"
           }
          ],
          "choropleth": [
           {
            "colorbar": {
             "outlinewidth": 0,
             "ticks": ""
            },
            "type": "choropleth"
           }
          ],
          "contour": [
           {
            "colorbar": {
             "outlinewidth": 0,
             "ticks": ""
            },
            "colorscale": [
             [
              0,
              "#0d0887"
             ],
             [
              0.1111111111111111,
              "#46039f"
             ],
             [
              0.2222222222222222,
              "#7201a8"
             ],
             [
              0.3333333333333333,
              "#9c179e"
             ],
             [
              0.4444444444444444,
              "#bd3786"
             ],
             [
              0.5555555555555556,
              "#d8576b"
             ],
             [
              0.6666666666666666,
              "#ed7953"
             ],
             [
              0.7777777777777778,
              "#fb9f3a"
             ],
             [
              0.8888888888888888,
              "#fdca26"
             ],
             [
              1,
              "#f0f921"
             ]
            ],
            "type": "contour"
           }
          ],
          "contourcarpet": [
           {
            "colorbar": {
             "outlinewidth": 0,
             "ticks": ""
            },
            "type": "contourcarpet"
           }
          ],
          "heatmap": [
           {
            "colorbar": {
             "outlinewidth": 0,
             "ticks": ""
            },
            "colorscale": [
             [
              0,
              "#0d0887"
             ],
             [
              0.1111111111111111,
              "#46039f"
             ],
             [
              0.2222222222222222,
              "#7201a8"
             ],
             [
              0.3333333333333333,
              "#9c179e"
             ],
             [
              0.4444444444444444,
              "#bd3786"
             ],
             [
              0.5555555555555556,
              "#d8576b"
             ],
             [
              0.6666666666666666,
              "#ed7953"
             ],
             [
              0.7777777777777778,
              "#fb9f3a"
             ],
             [
              0.8888888888888888,
              "#fdca26"
             ],
             [
              1,
              "#f0f921"
             ]
            ],
            "type": "heatmap"
           }
          ],
          "heatmapgl": [
           {
            "colorbar": {
             "outlinewidth": 0,
             "ticks": ""
            },
            "colorscale": [
             [
              0,
              "#0d0887"
             ],
             [
              0.1111111111111111,
              "#46039f"
             ],
             [
              0.2222222222222222,
              "#7201a8"
             ],
             [
              0.3333333333333333,
              "#9c179e"
             ],
             [
              0.4444444444444444,
              "#bd3786"
             ],
             [
              0.5555555555555556,
              "#d8576b"
             ],
             [
              0.6666666666666666,
              "#ed7953"
             ],
             [
              0.7777777777777778,
              "#fb9f3a"
             ],
             [
              0.8888888888888888,
              "#fdca26"
             ],
             [
              1,
              "#f0f921"
             ]
            ],
            "type": "heatmapgl"
           }
          ],
          "histogram": [
           {
            "marker": {
             "pattern": {
              "fillmode": "overlay",
              "size": 10,
              "solidity": 0.2
             }
            },
            "type": "histogram"
           }
          ],
          "histogram2d": [
           {
            "colorbar": {
             "outlinewidth": 0,
             "ticks": ""
            },
            "colorscale": [
             [
              0,
              "#0d0887"
             ],
             [
              0.1111111111111111,
              "#46039f"
             ],
             [
              0.2222222222222222,
              "#7201a8"
             ],
             [
              0.3333333333333333,
              "#9c179e"
             ],
             [
              0.4444444444444444,
              "#bd3786"
             ],
             [
              0.5555555555555556,
              "#d8576b"
             ],
             [
              0.6666666666666666,
              "#ed7953"
             ],
             [
              0.7777777777777778,
              "#fb9f3a"
             ],
             [
              0.8888888888888888,
              "#fdca26"
             ],
             [
              1,
              "#f0f921"
             ]
            ],
            "type": "histogram2d"
           }
          ],
          "histogram2dcontour": [
           {
            "colorbar": {
             "outlinewidth": 0,
             "ticks": ""
            },
            "colorscale": [
             [
              0,
              "#0d0887"
             ],
             [
              0.1111111111111111,
              "#46039f"
             ],
             [
              0.2222222222222222,
              "#7201a8"
             ],
             [
              0.3333333333333333,
              "#9c179e"
             ],
             [
              0.4444444444444444,
              "#bd3786"
             ],
             [
              0.5555555555555556,
              "#d8576b"
             ],
             [
              0.6666666666666666,
              "#ed7953"
             ],
             [
              0.7777777777777778,
              "#fb9f3a"
             ],
             [
              0.8888888888888888,
              "#fdca26"
             ],
             [
              1,
              "#f0f921"
             ]
            ],
            "type": "histogram2dcontour"
           }
          ],
          "mesh3d": [
           {
            "colorbar": {
             "outlinewidth": 0,
             "ticks": ""
            },
            "type": "mesh3d"
           }
          ],
          "parcoords": [
           {
            "line": {
             "colorbar": {
              "outlinewidth": 0,
              "ticks": ""
             }
            },
            "type": "parcoords"
           }
          ],
          "pie": [
           {
            "automargin": true,
            "type": "pie"
           }
          ],
          "scatter": [
           {
            "fillpattern": {
             "fillmode": "overlay",
             "size": 10,
             "solidity": 0.2
            },
            "type": "scatter"
           }
          ],
          "scatter3d": [
           {
            "line": {
             "colorbar": {
              "outlinewidth": 0,
              "ticks": ""
             }
            },
            "marker": {
             "colorbar": {
              "outlinewidth": 0,
              "ticks": ""
             }
            },
            "type": "scatter3d"
           }
          ],
          "scattercarpet": [
           {
            "marker": {
             "colorbar": {
              "outlinewidth": 0,
              "ticks": ""
             }
            },
            "type": "scattercarpet"
           }
          ],
          "scattergeo": [
           {
            "marker": {
             "colorbar": {
              "outlinewidth": 0,
              "ticks": ""
             }
            },
            "type": "scattergeo"
           }
          ],
          "scattergl": [
           {
            "marker": {
             "colorbar": {
              "outlinewidth": 0,
              "ticks": ""
             }
            },
            "type": "scattergl"
           }
          ],
          "scattermapbox": [
           {
            "marker": {
             "colorbar": {
              "outlinewidth": 0,
              "ticks": ""
             }
            },
            "type": "scattermapbox"
           }
          ],
          "scatterpolar": [
           {
            "marker": {
             "colorbar": {
              "outlinewidth": 0,
              "ticks": ""
             }
            },
            "type": "scatterpolar"
           }
          ],
          "scatterpolargl": [
           {
            "marker": {
             "colorbar": {
              "outlinewidth": 0,
              "ticks": ""
             }
            },
            "type": "scatterpolargl"
           }
          ],
          "scatterternary": [
           {
            "marker": {
             "colorbar": {
              "outlinewidth": 0,
              "ticks": ""
             }
            },
            "type": "scatterternary"
           }
          ],
          "surface": [
           {
            "colorbar": {
             "outlinewidth": 0,
             "ticks": ""
            },
            "colorscale": [
             [
              0,
              "#0d0887"
             ],
             [
              0.1111111111111111,
              "#46039f"
             ],
             [
              0.2222222222222222,
              "#7201a8"
             ],
             [
              0.3333333333333333,
              "#9c179e"
             ],
             [
              0.4444444444444444,
              "#bd3786"
             ],
             [
              0.5555555555555556,
              "#d8576b"
             ],
             [
              0.6666666666666666,
              "#ed7953"
             ],
             [
              0.7777777777777778,
              "#fb9f3a"
             ],
             [
              0.8888888888888888,
              "#fdca26"
             ],
             [
              1,
              "#f0f921"
             ]
            ],
            "type": "surface"
           }
          ],
          "table": [
           {
            "cells": {
             "fill": {
              "color": "#EBF0F8"
             },
             "line": {
              "color": "white"
             }
            },
            "header": {
             "fill": {
              "color": "#C8D4E3"
             },
             "line": {
              "color": "white"
             }
            },
            "type": "table"
           }
          ]
         },
         "layout": {
          "annotationdefaults": {
           "arrowcolor": "#2a3f5f",
           "arrowhead": 0,
           "arrowwidth": 1
          },
          "autotypenumbers": "strict",
          "coloraxis": {
           "colorbar": {
            "outlinewidth": 0,
            "ticks": ""
           }
          },
          "colorscale": {
           "diverging": [
            [
             0,
             "#8e0152"
            ],
            [
             0.1,
             "#c51b7d"
            ],
            [
             0.2,
             "#de77ae"
            ],
            [
             0.3,
             "#f1b6da"
            ],
            [
             0.4,
             "#fde0ef"
            ],
            [
             0.5,
             "#f7f7f7"
            ],
            [
             0.6,
             "#e6f5d0"
            ],
            [
             0.7,
             "#b8e186"
            ],
            [
             0.8,
             "#7fbc41"
            ],
            [
             0.9,
             "#4d9221"
            ],
            [
             1,
             "#276419"
            ]
           ],
           "sequential": [
            [
             0,
             "#0d0887"
            ],
            [
             0.1111111111111111,
             "#46039f"
            ],
            [
             0.2222222222222222,
             "#7201a8"
            ],
            [
             0.3333333333333333,
             "#9c179e"
            ],
            [
             0.4444444444444444,
             "#bd3786"
            ],
            [
             0.5555555555555556,
             "#d8576b"
            ],
            [
             0.6666666666666666,
             "#ed7953"
            ],
            [
             0.7777777777777778,
             "#fb9f3a"
            ],
            [
             0.8888888888888888,
             "#fdca26"
            ],
            [
             1,
             "#f0f921"
            ]
           ],
           "sequentialminus": [
            [
             0,
             "#0d0887"
            ],
            [
             0.1111111111111111,
             "#46039f"
            ],
            [
             0.2222222222222222,
             "#7201a8"
            ],
            [
             0.3333333333333333,
             "#9c179e"
            ],
            [
             0.4444444444444444,
             "#bd3786"
            ],
            [
             0.5555555555555556,
             "#d8576b"
            ],
            [
             0.6666666666666666,
             "#ed7953"
            ],
            [
             0.7777777777777778,
             "#fb9f3a"
            ],
            [
             0.8888888888888888,
             "#fdca26"
            ],
            [
             1,
             "#f0f921"
            ]
           ]
          },
          "colorway": [
           "#636efa",
           "#EF553B",
           "#00cc96",
           "#ab63fa",
           "#FFA15A",
           "#19d3f3",
           "#FF6692",
           "#B6E880",
           "#FF97FF",
           "#FECB52"
          ],
          "font": {
           "color": "#2a3f5f"
          },
          "geo": {
           "bgcolor": "white",
           "lakecolor": "white",
           "landcolor": "#E5ECF6",
           "showlakes": true,
           "showland": true,
           "subunitcolor": "white"
          },
          "hoverlabel": {
           "align": "left"
          },
          "hovermode": "closest",
          "mapbox": {
           "style": "light"
          },
          "paper_bgcolor": "white",
          "plot_bgcolor": "#E5ECF6",
          "polar": {
           "angularaxis": {
            "gridcolor": "white",
            "linecolor": "white",
            "ticks": ""
           },
           "bgcolor": "#E5ECF6",
           "radialaxis": {
            "gridcolor": "white",
            "linecolor": "white",
            "ticks": ""
           }
          },
          "scene": {
           "xaxis": {
            "backgroundcolor": "#E5ECF6",
            "gridcolor": "white",
            "gridwidth": 2,
            "linecolor": "white",
            "showbackground": true,
            "ticks": "",
            "zerolinecolor": "white"
           },
           "yaxis": {
            "backgroundcolor": "#E5ECF6",
            "gridcolor": "white",
            "gridwidth": 2,
            "linecolor": "white",
            "showbackground": true,
            "ticks": "",
            "zerolinecolor": "white"
           },
           "zaxis": {
            "backgroundcolor": "#E5ECF6",
            "gridcolor": "white",
            "gridwidth": 2,
            "linecolor": "white",
            "showbackground": true,
            "ticks": "",
            "zerolinecolor": "white"
           }
          },
          "shapedefaults": {
           "line": {
            "color": "#2a3f5f"
           }
          },
          "ternary": {
           "aaxis": {
            "gridcolor": "white",
            "linecolor": "white",
            "ticks": ""
           },
           "baxis": {
            "gridcolor": "white",
            "linecolor": "white",
            "ticks": ""
           },
           "bgcolor": "#E5ECF6",
           "caxis": {
            "gridcolor": "white",
            "linecolor": "white",
            "ticks": ""
           }
          },
          "title": {
           "x": 0.05
          },
          "xaxis": {
           "automargin": true,
           "gridcolor": "white",
           "linecolor": "white",
           "ticks": "",
           "title": {
            "standoff": 15
           },
           "zerolinecolor": "white",
           "zerolinewidth": 2
          },
          "yaxis": {
           "automargin": true,
           "gridcolor": "white",
           "linecolor": "white",
           "ticks": "",
           "title": {
            "standoff": 15
           },
           "zerolinecolor": "white",
           "zerolinewidth": 2
          }
         }
        },
        "title": {
         "text": "SPXW Option Prices"
        },
        "xaxis": {
         "anchor": "y",
         "domain": [
          0,
          1
         ],
         "rangeslider": {
          "bgcolor": "grey",
          "borderwidth": 0,
          "thickness": 0.05,
          "visible": true
         },
         "title": {
          "text": "Date"
         },
         "type": "date"
        },
        "yaxis": {
         "anchor": "x",
         "domain": [
          0,
          1
         ],
         "title": {
          "text": "Price"
         }
        }
       }
      }
     },
     "metadata": {},
     "output_type": "display_data"
    }
   ],
   "source": [
    "import plotly.express as px\n",
    "import pandas as pd\n",
    "\n",
    "# Assuming 'results' is your DataFrame containing the data\n",
    "# Make sure the index is set as 'Date' and it is in datetime format\n",
    "results.index = pd.to_datetime(results.index)\n",
    "\n",
    "# Create a Plotly figure excluding the Delta columns\n",
    "fig = px.line(results, \n",
    "              x=results.index,  # Use the DataFrame index as the x-axis\n",
    "              y=['PricePut5700', 'RealPricePut5700', \n",
    "                 'PricePut5300', 'RealPricePut5300'],\n",
    "              labels={'value': 'Option Price', 'index': 'Date'},\n",
    "              title=\"Option Prices Over Time\")\n",
    "\n",
    "# Update the layout to customize the range slider and hide unnecessary elements\n",
    "fig.update_layout(\n",
    "    xaxis=dict(\n",
    "        rangeslider=dict(\n",
    "            visible=False,  # Enable range slider\n",
    "            bgcolor='grey',  # Set the range slider's background color to grey\n",
    "            borderwidth=0,  # Remove border around the slider\n",
    "            thickness=0.05,  # Set the thickness of the range slider\n",
    "        ),\n",
    "        type='date'  # Make sure the x-axis is a date type\n",
    "    ),\n",
    "    xaxis_rangeslider_visible=True,  # Make the range slider visible\n",
    "    title=\"SPXW Option Prices\",\n",
    "    xaxis_title=\"Date\",\n",
    "    yaxis_title=\"Price\",\n",
    "    plot_bgcolor='rgba(0,0,0,0)',  # Make the plot background transparent\n",
    ")\n",
    "\n",
    "# Show the figure\n",
    "fig.show()\n"
   ]
  },
  {
   "cell_type": "markdown",
   "metadata": {},
   "source": []
  }
 ],
 "metadata": {
  "kernelspec": {
   "display_name": "new_env",
   "language": "python",
   "name": "python3"
  },
  "language_info": {
   "codemirror_mode": {
    "name": "ipython",
    "version": 3
   },
   "file_extension": ".py",
   "mimetype": "text/x-python",
   "name": "python",
   "nbconvert_exporter": "python",
   "pygments_lexer": "ipython3",
   "version": "3.9.19"
  }
 },
 "nbformat": 4,
 "nbformat_minor": 2
}
